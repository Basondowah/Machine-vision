{
  "cells": [
    {
      "cell_type": "markdown",
      "metadata": {
        "id": "EpRNh1-L8zuk"
      },
      "source": [
        "## Assessment / Midterm: Machine Vision and Deep Learning\n",
        "<span style=\"color:blue\">\n",
        "    \n",
        "1) Answer all questions\n",
        "    \n",
        "2) This assessment is open-book. You are allowed to refer to any references including online materials, books, notes, codes, github links, etc\n",
        "\n",
        "3) Copy this notebook to your google drive (click **FILE** > **save a copy in Drive**)\n",
        "\n",
        "4) Upload the answer notebook & trained model (for Question 3) to your github. \n",
        "\n",
        "5) Submit the assessment by sharing the link to your github containing the answers. \n",
        "    \n",
        "</span>"
      ]
    },
    {
      "cell_type": "markdown",
      "metadata": {
        "id": "SZRzK-QDdv-w"
      },
      "source": [
        "**QUESTION 1 [15 marks]**\n",
        "\n",
        "a) Let *k*, *s* and *p* be 4, 2 and 1, respectively. What will be the shape of the output of the convolutional layer? (2 marks)\n",
        "\n",
        ">>import torch \\\n",
        "import torch.nn as nn \\\n",
        "input_img = torch.rand(1,3,10,10) \\\n",
        "layer = nn.Conv2d(in_channels=3, out_channels=12, kernel_size=*k*, stride=*s*, padding=*p*)\n",
        "\n",
        "<span style=\"color:blue\">\n",
        "    answer: The shape of the output is (1,12,5,5)\n",
        "</span>"
      ]
    },
    {
      "cell_type": "markdown",
      "metadata": {
        "id": "cF2oGufYdv-w"
      },
      "source": [
        "b) Batch Normalization (BN) normalizes the mean and standard deviation for each: (tick X for the correct answer) (2 marks)\n",
        "\n",
        " - [ ] Individual feature map\n",
        " - [X] Instance in the mini-batch\n",
        " - [ ] Spatial dimension    "
      ]
    },
    {
      "cell_type": "markdown",
      "metadata": {
        "id": "hmT5hj7Wdv-x"
      },
      "source": [
        "c) Which one of the following is not an advantage of Batch Normalization (BN)? (tick X for the correct answer) (2 marks)\n",
        "\n",
        "- [ ] BN accelerates the training of deep neural networks and tackles the vanishing gradient problem.\n",
        "- [ ] For every input mini-batch, we calculate different statistics. This introduces some sort of regularization.\n",
        "- [ ] BN reduces the dependence of gradients on the scale of the parameters or of their initial values.\n",
        "- [X] BN needs a much slower learning rate for the total architecture to converge."
      ]
    },
    {
      "cell_type": "markdown",
      "metadata": {
        "id": "CtEJOJBKdv-x"
      },
      "source": [
        "d) Choose the correct statement. (tick X for the correct answer) (2 marks)\n",
        "\n",
        "- [X] A larger kernel is preferred for information that resides globally, and a smaller kernel is preferred for information that is distributed locally.\n",
        "- [ ] A larger kernel is preferred for information that resides locally, and a smaller kernel is preferred for information that is distributed globally."
      ]
    },
    {
      "cell_type": "markdown",
      "metadata": {
        "id": "2-M1Ijcjdv-x"
      },
      "source": [
        "e) In the following network, how many learnable parameters (weights) are there? (2 marks)"
      ]
    },
    {
      "cell_type": "code",
      "execution_count": 8,
      "metadata": {
        "id": "SjwPVNJidv-x"
      },
      "outputs": [],
      "source": [
        "model = nn.Sequential(\n",
        "        nn.Linear(3,20),\n",
        "        nn.ReLU(),\n",
        "        nn.Linear(20,2)\n",
        "    )"
      ]
    },
    {
      "cell_type": "markdown",
      "metadata": {
        "id": "hlPJaJqWdv-y"
      },
      "source": [
        "<span style=\"color:blue\">\n",
        "    answer: There are 120 learnable parameters\n",
        "</span>"
      ]
    },
    {
      "cell_type": "markdown",
      "metadata": {
        "id": "eANmmfsydv-y"
      },
      "source": [
        "f) Which of the following statements are true about deep neural networks? (tick X for the correct answer) (2 marks)\n",
        "\n",
        "- [X] Deep neural networks usually require a big amount of data to be properly trained.\n",
        "- [X] They can be fooled by adversarial/ noisy examples.\n",
        "- [X] They are difficult to interpret and understand.\n",
        "- [X] They can still be subject to biases.\n",
        "- [ ] They fail to understand the context of the data that they are handling.\n",
        "- [ ] They perform very well on individual tasks but fail to generalize to many different tasks."
      ]
    },
    {
      "cell_type": "markdown",
      "metadata": {
        "id": "mZjRw2C_dv-z"
      },
      "source": [
        "g) Run the code in the next cell. "
      ]
    },
    {
      "cell_type": "code",
      "execution_count": null,
      "metadata": {
        "id": "C3Uod94ldv-z"
      },
      "outputs": [],
      "source": [
        "# import numpy as np\n",
        "from sklearn.datasets import make_moons\n",
        "import matplotlib.pyplot as plt\n",
        "%matplotlib inline\n",
        "\n",
        "# generate synthetic data in 2D\n",
        "X, Y = make_moons(500, noise=0.2)\n",
        "\n",
        "# plot the data\n",
        "plt.scatter(X[:,0], X[:,1], c=Y)\n",
        "plt.title('2D Data')\n",
        "plt.show()"
      ]
    },
    {
      "cell_type": "markdown",
      "metadata": {
        "id": "GLGhn0E0dv-z"
      },
      "source": [
        "Can this data be correctly separable using the classifier below? Why? (3 marks)\n",
        "\n",
        "model = nn.Sequential( \\\n",
        "    nn.Linear(n_input_dim, n_output), \\\n",
        "    nn.Sigmoid() \\\n",
        "    )\n",
        "    \n",
        "<span style=\"color:blue\">\n",
        "    answer: Without extra information, the proposed classifier is unable to distinguish the data properly. Depending on the complexity of the data and the settings of the model's hyperparameters, the classifier you have supplied may or may not be adequate to properly represent the data. In this straightforward linear model, there is only one hidden layer. We would need to train the model on the data and assess its performance in order to establish whether the data can be correctly separated using this classifier.\n",
        "</span>"
      ]
    },
    {
      "cell_type": "markdown",
      "metadata": {
        "id": "kjRauIpz8zun"
      },
      "source": [
        "**QUESTION 2 [50 marks]** \n",
        "\n",
        "The COVID-19 pandemic continues to have a devastating effect on the health and well-being of the global population. A critical step in the fight against COVID-19 is effective screening of infected patients, with one of the key screening approaches being radiology examination using chest radiography. As a deep learning engineer, you are tasked to classify a dataset of X-ray images as either \"normal\", \"covid\" or \"viral pneumonia\". Use the chest X-ray dataset publicly available at https://www.kaggle.com/datasets/pranavraikokte/covid19-image-dataset to answer the following questions.\n"
      ]
    },
    {
      "cell_type": "markdown",
      "metadata": {
        "id": "Jzzvkxpn8zuo"
      },
      "source": [
        "a) Train a feedforward neural network to solve the classification problem. Please include: **(10 marks)**\n",
        "\n",
        "    1) The dataloader to load the train and test datasets.\n",
        "\n",
        "    2) The model definition (either using sequential method OR pytorch class method).\n",
        "\n",
        "    3) The training loop.\n",
        "\n",
        "    4) Output the mean accuracy for the whole testing dataset.\n",
        "    \n",
        "    5) The hyperparameters are:\n",
        "        i  - architecture: 2 hidden layers\n",
        "        ii - input size  : 32x32 "
      ]
    },
    {
      "cell_type": "code",
      "execution_count": 1,
      "metadata": {
        "id": "O0hERYSq8zuo"
      },
      "outputs": [],
      "source": [
        "import os\n",
        "\n",
        "#Numpy is linear algebra lbrary\n",
        "import numpy as np\n",
        "# Matplotlib is a visualizations library \n",
        "import matplotlib.pyplot as plt\n",
        "import torch\n",
        "import torch.nn as nn\n",
        "import torch.optim as optim\n",
        "import torchvision\n",
        "import torchvision.transforms as transforms"
      ]
    },
    {
      "cell_type": "code",
      "source": [
        "from google.colab import drive\n",
        "drive.mount('/content/gdrive')"
      ],
      "metadata": {
        "colab": {
          "base_uri": "https://localhost:8080/"
        },
        "id": "5760KXSYeLuO",
        "outputId": "606a6e46-b0da-4bbe-a8f1-478cf033f073"
      },
      "execution_count": 3,
      "outputs": [
        {
          "output_type": "stream",
          "name": "stdout",
          "text": [
            "Mounted at /content/gdrive\n"
          ]
        }
      ]
    },
    {
      "cell_type": "code",
      "source": [
        "# Data Loader\n",
        "transform = transforms.Compose(\n",
        "    [   transforms.Resize((32,32)),\n",
        "        transforms.ToTensor(),\n",
        "        transforms.Normalize((0.5), (0.5))])\n",
        "\n",
        "batch_size = 32\n",
        "\n",
        "\n",
        "dataset = '/content/gdrive/MyDrive/MV/Covid19-dataset'\n",
        "\n",
        "train_directory = os.path.join(dataset, 'train')\n",
        "test_directory = os.path.join(dataset, 'test')\n",
        "\n",
        "\n",
        "trainset = torchvision.datasets.ImageFolder(root=train_directory, transform=transform)\n",
        "trainloader = torch.utils.data.DataLoader(trainset, batch_size=batch_size, shuffle=True)\n",
        "\n",
        "testset = torchvision.datasets.ImageFolder(root=test_directory, transform=transform)\n",
        "testloader = torch.utils.data.DataLoader(testset, batch_size=batch_size, shuffle=False)\n",
        "\n",
        "classes = ('Normal', 'Covid', 'Viral Pneumonia')"
      ],
      "metadata": {
        "id": "Rfwb-Pq7eO19"
      },
      "execution_count": 5,
      "outputs": []
    },
    {
      "cell_type": "code",
      "source": [
        "train_data_size = len(trainloader.dataset)\n",
        "test_data_size = len(testloader.dataset)\n",
        "\n",
        "print(train_data_size)\n",
        "print(test_data_size)"
      ],
      "metadata": {
        "colab": {
          "base_uri": "https://localhost:8080/"
        },
        "id": "XdF3xZYSgbf2",
        "outputId": "944fd81e-4d36-445c-e055-504915a949fc"
      },
      "execution_count": 6,
      "outputs": [
        {
          "output_type": "stream",
          "name": "stdout",
          "text": [
            "258\n",
            "66\n"
          ]
        }
      ]
    },
    {
      "cell_type": "code",
      "source": [
        "import matplotlib.pyplot as plt\n",
        "import numpy as np\n",
        "\n",
        "# functions to show an image\n",
        "\n",
        "def imshow(img):\n",
        "    img = img / 2 + 0.5     # unnormalize\n",
        "    npimg = img.numpy()\n",
        "    plt.imshow(np.transpose(npimg, (1, 2, 0)))\n",
        "    plt.show()\n",
        "\n",
        "\n",
        "# get some random training images\n",
        "dataiter = iter(trainloader)\n",
        "images, labels = next(dataiter)\n",
        "\n",
        "# show images\n",
        "imshow(torchvision.utils.make_grid(images))\n",
        "# print labels\n",
        "print(' '.join(f'{classes[labels[j]]:5s}' for j in range(batch_size)))"
      ],
      "metadata": {
        "colab": {
          "base_uri": "https://localhost:8080/",
          "height": 257
        },
        "id": "RAPtxvjOhJNW",
        "outputId": "1d9313ec-4a3f-4dd9-f0eb-60c9267e040c"
      },
      "execution_count": 7,
      "outputs": [
        {
          "output_type": "display_data",
          "data": {
            "text/plain": [
              "<Figure size 432x288 with 1 Axes>"
            ],
            "image/png": "[encoded data removed]"
          },
          "metadata": {
            "needs_background": "light"
          }
        },
        {
          "output_type": "stream",
          "name": "stdout",
          "text": [
            "Viral Pneumonia Covid Viral Pneumonia Normal Viral Pneumonia Covid Viral Pneumonia Normal Viral Pneumonia Covid Covid Normal Covid Covid Viral Pneumonia Covid Normal Normal Viral Pneumonia Normal Normal Normal Normal Covid Covid Normal Normal Viral Pneumonia Normal Viral Pneumonia Normal Normal\n"
          ]
        }
      ]
    },
    {
      "cell_type": "code",
      "source": [
        "## 1. DEFINE MODEL \n",
        "model = nn.Sequential(nn.Linear(3072, 128),\n",
        "                          nn.ReLU(),\n",
        "                          nn.Linear(128, 64),\n",
        "                          nn.ReLU(),\n",
        "                          nn.Linear(64, 32),\n",
        "                          nn.ReLU(),\n",
        "                          nn.Linear(32, 3)\n",
        "                          )"
      ],
      "metadata": {
        "id": "QlKikeCvnsIs"
      },
      "execution_count": 11,
      "outputs": []
    },
    {
      "cell_type": "code",
      "source": [
        "# 2. LOSS AND OPTIMIZER\n",
        "criterion = nn.CrossEntropyLoss()\n",
        "optimizer = optim.SGD(model.parameters(), lr=0.001, momentum=0.9)\n",
        "\n",
        "# 3. move the model to GPU\n",
        "device = torch.device('cuda:0' if torch.cuda.is_available() else 'cpu')\n",
        "model.to(device)"
      ],
      "metadata": {
        "colab": {
          "base_uri": "https://localhost:8080/"
        },
        "id": "cu5uyXL5o2sW",
        "outputId": "0a5b812b-c21f-4a59-b4ff-0564b61d9baa"
      },
      "execution_count": 12,
      "outputs": [
        {
          "output_type": "execute_result",
          "data": {
            "text/plain": [
              "Sequential(\n",
              "  (0): Linear(in_features=3072, out_features=128, bias=True)\n",
              "  (1): ReLU()\n",
              "  (2): Linear(in_features=128, out_features=64, bias=True)\n",
              "  (3): ReLU()\n",
              "  (4): Linear(in_features=64, out_features=32, bias=True)\n",
              "  (5): ReLU()\n",
              "  (6): Linear(in_features=32, out_features=3, bias=True)\n",
              ")"
            ]
          },
          "metadata": {},
          "execution_count": 12
        }
      ]
    },
    {
      "cell_type": "code",
      "source": [
        "device"
      ],
      "metadata": {
        "colab": {
          "base_uri": "https://localhost:8080/"
        },
        "id": "wyE2gmrRo7xc",
        "outputId": "41e74203-6050-46c3-f00d-7dff4f1987a5"
      },
      "execution_count": 13,
      "outputs": [
        {
          "output_type": "execute_result",
          "data": {
            "text/plain": [
              "device(type='cpu')"
            ]
          },
          "metadata": {},
          "execution_count": 13
        }
      ]
    },
    {
      "cell_type": "code",
      "source": [
        "import time # to calculate training time\n",
        "\n",
        "def train_and_validate(model, loss_criterion, optimizer, epochs=25):\n",
        "    '''\n",
        "    Function to train and validate\n",
        "    Parameters\n",
        "        :param model: Model to train and validate\n",
        "        :param loss_criterion: Loss Criterion to minimize\n",
        "        :param optimizer: Optimizer for computing gradients\n",
        "        :param epochs: Number of epochs (default=25)\n",
        "  \n",
        "    Returns\n",
        "        model: Trained Model with best validation accuracy\n",
        "        history: (dict object): Having training loss, accuracy and validation loss, accuracy\n",
        "    '''\n",
        "    \n",
        "    start = time.time()\n",
        "    history = []\n",
        "    best_acc = 0.0\n",
        "\n",
        "    for epoch in range(epochs):\n",
        "        epoch_start = time.time()\n",
        "        print(\"Epoch: {}/{}\".format(epoch+1, epochs))\n",
        "        \n",
        "        # Set to training mode\n",
        "        model.train()\n",
        "        \n",
        "        # Loss and Accuracy within the epoch\n",
        "        train_loss = 0.0\n",
        "        train_acc = 0.0\n",
        "        \n",
        "        valid_loss = 0.0\n",
        "        valid_acc = 0.0\n",
        "        \n",
        "        for i, (inputs, labels) in enumerate(trainloader):\n",
        "\n",
        "            inputs = inputs.to(device)\n",
        "            #reshape images so they can be fed to a nn.Linear()\n",
        "            inputs = inputs.view(inputs.size(0), -1)\n",
        "            labels = labels.to(device)\n",
        "            \n",
        "            # Clean existing gradients\n",
        "            optimizer.zero_grad()\n",
        "            \n",
        "            # Forward pass - compute outputs on input data using the model\n",
        "            outputs = model(inputs)\n",
        "            \n",
        "            # Compute loss\n",
        "            loss = loss_criterion(outputs, labels)\n",
        "            \n",
        "            # Backpropagate the gradients\n",
        "            loss.backward()\n",
        "            \n",
        "            # Update the parameters\n",
        "            optimizer.step()\n",
        "            \n",
        "            # Compute the total loss for the batch and add it to train_loss\n",
        "            train_loss += loss.item() * inputs.size(0)\n",
        "            \n",
        "            # Compute the accuracy\n",
        "            ret, predictions = torch.max(outputs.data, 1)\n",
        "            correct_counts = predictions.eq(labels.data.view_as(predictions))\n",
        "            \n",
        "            # Convert correct_counts to float and then compute the mean\n",
        "            acc = torch.mean(correct_counts.type(torch.FloatTensor))\n",
        "            \n",
        "            # Compute total accuracy in the whole batch and add to train_acc\n",
        "            train_acc += acc.item() * inputs.size(0)\n",
        "            \n",
        "            #print(\"Batch number: {:03d}, Training: Loss: {:.4f}, Accuracy: {:.4f}\".format(i, loss.item(), acc.item()))\n",
        "\n",
        "            \n",
        "        # Validation - No gradient tracking needed\n",
        "        with torch.no_grad():\n",
        "\n",
        "            # Set to evaluation mode\n",
        "            model.eval()\n",
        "\n",
        "            # Validation loop\n",
        "            for j, (inputs, labels) in enumerate(testloader):\n",
        "                inputs = inputs.to(device)\n",
        "                #reshape images so they can be fed to a nn.Linear()\n",
        "                inputs = inputs.view(inputs.size(0), -1)\n",
        "                labels = labels.to(device)\n",
        "\n",
        "                # Forward pass - compute outputs on input data using the model\n",
        "                outputs = model(inputs)\n",
        "\n",
        "                # Compute loss\n",
        "                loss = loss_criterion(outputs, labels)\n",
        "\n",
        "                # Compute the total loss for the batch and add it to valid_loss\n",
        "                valid_loss += loss.item() * inputs.size(0)\n",
        "\n",
        "                # Calculate validation accuracy\n",
        "                ret, predictions = torch.max(outputs.data, 1)\n",
        "                correct_counts = predictions.eq(labels.data.view_as(predictions))\n",
        "\n",
        "                # Convert correct_counts to float and then compute the mean\n",
        "                acc = torch.mean(correct_counts.type(torch.FloatTensor))\n",
        "\n",
        "                # Compute total accuracy in the whole batch and add to valid_acc\n",
        "                valid_acc += acc.item() * inputs.size(0)\n",
        "\n",
        "                #print(\"Validation Batch number: {:03d}, Validation: Loss: {:.4f}, Accuracy: {:.4f}\".format(j, loss.item(), acc.item()))\n",
        "            \n",
        "        # Find average training loss and training accuracy\n",
        "        avg_train_loss = train_loss/train_data_size \n",
        "        avg_train_acc = train_acc/train_data_size\n",
        "\n",
        "        # Find average training loss and training accuracy\n",
        "        avg_test_loss = valid_loss/test_data_size \n",
        "        avg_test_acc = valid_acc/test_data_size\n",
        "\n",
        "        history.append([avg_train_loss, avg_test_loss, avg_train_acc, avg_test_acc])\n",
        "                \n",
        "        epoch_end = time.time()\n",
        "    \n",
        "        print(\"Epoch : {:03d}, Training: Loss: {:.4f}, Accuracy: {:.4f}%, \\n\\t\\tValidation : Loss : {:.4f}, Accuracy: {:.4f}%, Time: {:.4f}s\".format(epoch, avg_train_loss, avg_train_acc*100, avg_test_loss, avg_test_acc*100, epoch_end-epoch_start))\n",
        "        \n",
        "        # Save if the model has best accuracy till now\n",
        "        torch.save(model, 'cifar10_model_'+str(epoch)+'.pt')\n",
        "            \n",
        "    return model, history"
      ],
      "metadata": {
        "id": "TkBwtF0LpEy8"
      },
      "execution_count": 14,
      "outputs": []
    },
    {
      "cell_type": "code",
      "source": [
        "# 4. Train the model for 20 epochs\n",
        "\n",
        "num_epochs = 20\n",
        "trained_model, history = train_and_validate(model, criterion, optimizer, num_epochs)"
      ],
      "metadata": {
        "colab": {
          "base_uri": "https://localhost:8080/"
        },
        "id": "7cxrxJ6lpJ2d",
        "outputId": "70390224-9735-4771-dc52-baf945ea8f7e"
      },
      "execution_count": 15,
      "outputs": [
        {
          "output_type": "stream",
          "name": "stdout",
          "text": [
            "Epoch: 1/20\n",
            "Epoch : 000, Training: Loss: 1.0872, Accuracy: 43.0233%, \n",
            "\t\tValidation : Loss : 1.0882, Accuracy: 39.3939%, Time: 119.5762s\n",
            "Epoch: 2/20\n",
            "Epoch : 001, Training: Loss: 1.0772, Accuracy: 43.0233%, \n",
            "\t\tValidation : Loss : 1.0802, Accuracy: 39.3939%, Time: 17.8279s\n",
            "Epoch: 3/20\n",
            "Epoch : 002, Training: Loss: 1.0648, Accuracy: 43.0233%, \n",
            "\t\tValidation : Loss : 1.0726, Accuracy: 39.3939%, Time: 17.7936s\n",
            "Epoch: 4/20\n",
            "Epoch : 003, Training: Loss: 1.0529, Accuracy: 43.0233%, \n",
            "\t\tValidation : Loss : 1.0647, Accuracy: 39.3939%, Time: 19.4264s\n",
            "Epoch: 5/20\n",
            "Epoch : 004, Training: Loss: 1.0399, Accuracy: 43.0233%, \n",
            "\t\tValidation : Loss : 1.0564, Accuracy: 39.3939%, Time: 17.9691s\n",
            "Epoch: 6/20\n",
            "Epoch : 005, Training: Loss: 1.0256, Accuracy: 43.0233%, \n",
            "\t\tValidation : Loss : 1.0473, Accuracy: 39.3939%, Time: 17.7599s\n",
            "Epoch: 7/20\n",
            "Epoch : 006, Training: Loss: 1.0107, Accuracy: 43.0233%, \n",
            "\t\tValidation : Loss : 1.0372, Accuracy: 39.3939%, Time: 17.4628s\n",
            "Epoch: 8/20\n",
            "Epoch : 007, Training: Loss: 0.9932, Accuracy: 43.0233%, \n",
            "\t\tValidation : Loss : 1.0262, Accuracy: 42.4242%, Time: 17.6259s\n",
            "Epoch: 9/20\n",
            "Epoch : 008, Training: Loss: 0.9745, Accuracy: 50.0000%, \n",
            "\t\tValidation : Loss : 1.0120, Accuracy: 50.0000%, Time: 17.7186s\n",
            "Epoch: 10/20\n",
            "Epoch : 009, Training: Loss: 0.9543, Accuracy: 61.2403%, \n",
            "\t\tValidation : Loss : 0.9954, Accuracy: 53.0303%, Time: 17.5623s\n",
            "Epoch: 11/20\n",
            "Epoch : 010, Training: Loss: 0.9325, Accuracy: 62.0155%, \n",
            "\t\tValidation : Loss : 0.9780, Accuracy: 54.5455%, Time: 17.5799s\n",
            "Epoch: 12/20\n",
            "Epoch : 011, Training: Loss: 0.9102, Accuracy: 62.7907%, \n",
            "\t\tValidation : Loss : 0.9568, Accuracy: 54.5455%, Time: 17.5615s\n",
            "Epoch: 13/20\n",
            "Epoch : 012, Training: Loss: 0.8834, Accuracy: 65.1163%, \n",
            "\t\tValidation : Loss : 0.9348, Accuracy: 54.5455%, Time: 17.7025s\n",
            "Epoch: 14/20\n",
            "Epoch : 013, Training: Loss: 0.8572, Accuracy: 67.8295%, \n",
            "\t\tValidation : Loss : 0.9119, Accuracy: 54.5455%, Time: 19.3248s\n",
            "Epoch: 15/20\n",
            "Epoch : 014, Training: Loss: 0.8276, Accuracy: 67.8295%, \n",
            "\t\tValidation : Loss : 0.8874, Accuracy: 62.1212%, Time: 17.6775s\n",
            "Epoch: 16/20\n",
            "Epoch : 015, Training: Loss: 0.7948, Accuracy: 68.9922%, \n",
            "\t\tValidation : Loss : 0.8621, Accuracy: 62.1212%, Time: 18.0084s\n",
            "Epoch: 17/20\n",
            "Epoch : 016, Training: Loss: 0.7624, Accuracy: 70.9302%, \n",
            "\t\tValidation : Loss : 0.8362, Accuracy: 65.1515%, Time: 17.6741s\n",
            "Epoch: 18/20\n",
            "Epoch : 017, Training: Loss: 0.7293, Accuracy: 72.4806%, \n",
            "\t\tValidation : Loss : 0.8085, Accuracy: 65.1515%, Time: 17.7250s\n",
            "Epoch: 19/20\n",
            "Epoch : 018, Training: Loss: 0.6954, Accuracy: 74.4186%, \n",
            "\t\tValidation : Loss : 0.7793, Accuracy: 66.6667%, Time: 17.1455s\n",
            "Epoch: 20/20\n",
            "Epoch : 019, Training: Loss: 0.6604, Accuracy: 76.7442%, \n",
            "\t\tValidation : Loss : 0.7567, Accuracy: 69.6970%, Time: 17.6150s\n"
          ]
        }
      ]
    },
    {
      "cell_type": "code",
      "source": [
        "history"
      ],
      "metadata": {
        "colab": {
          "base_uri": "https://localhost:8080/"
        },
        "id": "7Zyi9QbFrNx-",
        "outputId": "1e8bcc2f-8514-4f05-c93b-e34a3c1fbba5"
      },
      "execution_count": 16,
      "outputs": [
        {
          "output_type": "execute_result",
          "data": {
            "text/plain": [
              "[[1.0871506402658861,\n",
              "  1.0882124756321763,\n",
              "  0.43023255813953487,\n",
              "  0.3939393939393939],\n",
              " [1.0772140728410824,\n",
              "  1.0801778056404807,\n",
              "  0.43023255813953487,\n",
              "  0.3939393939393939],\n",
              " [1.0647536183512487,\n",
              "  1.072567343711853,\n",
              "  0.43023255813953487,\n",
              "  0.3939393939393939],\n",
              " [1.0528794702633406,\n",
              "  1.0646859804789226,\n",
              "  0.43023255813953487,\n",
              "  0.3939393939393939],\n",
              " [1.039920681206755,\n",
              "  1.0563965999718867,\n",
              "  0.43023255813953487,\n",
              "  0.3939393939393939],\n",
              " [1.0256083085555439,\n",
              "  1.047296328978105,\n",
              "  0.43023255813953487,\n",
              "  0.3939393939393939],\n",
              " [1.0106608729029811,\n",
              "  1.0371970407890552,\n",
              "  0.43023255813953487,\n",
              "  0.3939393939393939],\n",
              " [0.993227552535922,\n",
              "  1.0261797399231882,\n",
              "  0.43023255813953487,\n",
              "  0.42424242424242425],\n",
              " [0.9744784120441408, 1.0119952722029253, 0.5, 0.5],\n",
              " [0.9543405521747678,\n",
              "  0.9954057281667535,\n",
              "  0.6124031007751938,\n",
              "  0.5303030303030303],\n",
              " [0.932471936987352,\n",
              "  0.9779561866413463,\n",
              "  0.6201550387596899,\n",
              "  0.5454545454545454],\n",
              " [0.9101950216662976,\n",
              "  0.9567640369588678,\n",
              "  0.627906976744186,\n",
              "  0.5454545454545454],\n",
              " [0.8834225392156794,\n",
              "  0.9348042480873339,\n",
              "  0.6511627906976745,\n",
              "  0.5454545454545454],\n",
              " [0.8572429492492084,\n",
              "  0.9118608886545355,\n",
              "  0.6782945736434108,\n",
              "  0.5454545454545454],\n",
              " [0.8275718171467152,\n",
              "  0.8874484156117295,\n",
              "  0.6782945736434108,\n",
              "  0.6212121212121212],\n",
              " [0.7947696595228919,\n",
              "  0.862113306016633,\n",
              "  0.689922480620155,\n",
              "  0.6212121212121212],\n",
              " [0.7624420223310012,\n",
              "  0.8362045071341775,\n",
              "  0.7093023255813954,\n",
              "  0.6515151515151515],\n",
              " [0.7292719035185584,\n",
              "  0.8084971073902014,\n",
              "  0.7248062015503876,\n",
              "  0.6515151515151515],\n",
              " [0.6953988417174465,\n",
              "  0.7792686838092227,\n",
              "  0.7441860465116279,\n",
              "  0.6666666666666666],\n",
              " [0.6604153638662293,\n",
              "  0.7566659757585237,\n",
              "  0.7674418604651163,\n",
              "  0.696969696969697]]"
            ]
          },
          "metadata": {},
          "execution_count": 16
        }
      ]
    },
    {
      "cell_type": "code",
      "source": [
        "# 5. Analyze the loss curve\n",
        "\n",
        "history = np.array(history)\n",
        "plt.plot(history[:,0:2])\n",
        "plt.legend(['Tr Loss', 'Val Loss'])\n",
        "plt.xlabel('Epoch Number')\n",
        "plt.ylabel('Loss')\n",
        "plt.ylim(0,3)\n",
        "# plt.savefig('cifar10_loss_curve.png')\n",
        "plt.show()"
      ],
      "metadata": {
        "colab": {
          "base_uri": "https://localhost:8080/",
          "height": 283
        },
        "id": "GFPicgBvrSOV",
        "outputId": "ae63a474-8019-4865-ec14-654a513ec8da"
      },
      "execution_count": 17,
      "outputs": [
        {
          "output_type": "display_data",
          "data": {
            "text/plain": [
              "<Figure size 432x288 with 1 Axes>"
            ],
            "image/png": "[encoded data removed]"
          },
          "metadata": {
            "needs_background": "light"
          }
        }
      ]
    },
    {
      "cell_type": "code",
      "source": [
        "# 6. Analyze the accuracy curve\n",
        "\n",
        "plt.plot(history[:,2:4])\n",
        "plt.legend(['Tr Accuracy', 'Val Accuracy'])\n",
        "plt.xlabel('Epoch Number')\n",
        "plt.ylabel('Accuracy')\n",
        "plt.ylim(0,1)\n",
        "# plt.savefig('cifar10_accuracy_curve.png')\n",
        "plt.show()"
      ],
      "metadata": {
        "colab": {
          "base_uri": "https://localhost:8080/",
          "height": 283
        },
        "id": "lgoqTghkrWMM",
        "outputId": "3b074c16-4e03-4281-ecdc-56eec8c789e0"
      },
      "execution_count": 18,
      "outputs": [
        {
          "output_type": "display_data",
          "data": {
            "text/plain": [
              "<Figure size 432x288 with 1 Axes>"
            ],
            "image/png": "[encoded data removed]"
          },
          "metadata": {
            "needs_background": "light"
          }
        }
      ]
    },
    {
      "cell_type": "code",
      "source": [
        "dataiter = iter(testloader)\n",
        "\n",
        "images, labels = next(dataiter)\n",
        "\n",
        "# print images\n",
        "imshow(torchvision.utils.make_grid(images))\n",
        "print('GroundTruth: ', ' '.join(f'{classes[labels[j]]:5s}' for j in range(4)))"
      ],
      "metadata": {
        "colab": {
          "base_uri": "https://localhost:8080/",
          "height": 237
        },
        "id": "QrLeCQkIrX8U",
        "outputId": "dff56863-1a18-4389-c613-de2c93150d77"
      },
      "execution_count": 19,
      "outputs": [
        {
          "output_type": "display_data",
          "data": {
            "text/plain": [
              "<Figure size 432x288 with 1 Axes>"
            ],
            "image/png": "[encoded data removed]"
          },
          "metadata": {
            "needs_background": "light"
          }
        },
        {
          "output_type": "stream",
          "name": "stdout",
          "text": [
            "GroundTruth:  Normal Normal Normal Normal\n"
          ]
        }
      ]
    },
    {
      "cell_type": "code",
      "source": [
        "torch.Size([32, 3, 32, 32])\n"
      ],
      "metadata": {
        "colab": {
          "base_uri": "https://localhost:8080/"
        },
        "id": "6nIcPcW9rez0",
        "outputId": "f47ab9c4-5d4c-45a1-f61e-02861dc56ce2"
      },
      "execution_count": 20,
      "outputs": [
        {
          "output_type": "execute_result",
          "data": {
            "text/plain": [
              "torch.Size([32, 3, 32, 32])"
            ]
          },
          "metadata": {},
          "execution_count": 20
        }
      ]
    },
    {
      "cell_type": "code",
      "source": [
        "# again, need to flatten the image\n",
        "images = images.to(device)\n",
        "images = images.view(images.size(0), -1)\n",
        "outputs = model(images)"
      ],
      "metadata": {
        "id": "BAfdUGSZrh10"
      },
      "execution_count": 21,
      "outputs": []
    },
    {
      "cell_type": "code",
      "source": [
        "_, predicted = torch.max(outputs, 1)\n",
        "\n",
        "print('Predicted: ', ' '.join(f'{classes[predicted[j]]:5s}'\n",
        "                              for j in range(4)))"
      ],
      "metadata": {
        "colab": {
          "base_uri": "https://localhost:8080/"
        },
        "id": "FNB1Bg0yrkns",
        "outputId": "61ecbec6-17b7-4c59-90cd-de82bdb95aa5"
      },
      "execution_count": 22,
      "outputs": [
        {
          "output_type": "stream",
          "name": "stdout",
          "text": [
            "Predicted:  Normal Normal Normal Normal\n"
          ]
        }
      ]
    },
    {
      "cell_type": "code",
      "source": [
        "correct = 0\n",
        "total = 0\n",
        "# since we're not training, we don't need to calculate the gradients for our outputs\n",
        "with torch.no_grad():\n",
        "    for data in testloader:\n",
        "#         images, labels = data\n",
        "        images, labels = data[0].to(device), data[1].to(device)\n",
        "        # calculate outputs by running images through the network\n",
        "        images = images.view(images.size(0), -1)\n",
        "        outputs = model(images)\n",
        "        # the class with the highest energy is what we choose as prediction\n",
        "        _, predicted = torch.max(outputs.data, 1)\n",
        "        total += labels.size(0)\n",
        "        correct += (predicted == labels).sum().item()\n",
        "\n",
        "print(f'Accuracy of the network on the 10000 test images: {100 * correct // total} %')"
      ],
      "metadata": {
        "colab": {
          "base_uri": "https://localhost:8080/"
        },
        "id": "0-9EvS_yrnQ8",
        "outputId": "ef1d5dc0-ad89-4c40-c9e7-8d422cf3a3fc"
      },
      "execution_count": 23,
      "outputs": [
        {
          "output_type": "stream",
          "name": "stdout",
          "text": [
            "Accuracy of the network on the 10000 test images: 69 %\n"
          ]
        }
      ]
    },
    {
      "cell_type": "code",
      "source": [
        "# prepare to count predictions for each class\n",
        "correct_pred = {classname: 0 for classname in classes}\n",
        "total_pred = {classname: 0 for classname in classes}\n",
        "\n",
        "# again no gradients needed\n",
        "with torch.no_grad():\n",
        "    for data in testloader:\n",
        "        images, labels = data[0].to(device), data[1].to(device)\n",
        "        images = images.view(images.size(0), -1)\n",
        "        outputs = model(images)\n",
        "        _, predictions = torch.max(outputs, 1)\n",
        "        # collect the correct predictions for each class\n",
        "        for label, prediction in zip(labels, predictions):\n",
        "            if label == prediction:\n",
        "                correct_pred[classes[label]] += 1\n",
        "            total_pred[classes[label]] += 1\n",
        "\n",
        "\n",
        "# print accuracy for each class\n",
        "for classname, correct_count in correct_pred.items():\n",
        "    accuracy = 100 * float(correct_count) / total_pred[classname]\n",
        "    print(f'Accuracy for class: {classname:5s} is {accuracy:.1f} %')"
      ],
      "metadata": {
        "colab": {
          "base_uri": "https://localhost:8080/"
        },
        "id": "piggBfb5rplU",
        "outputId": "33b35581-e6ae-4b28-ccf1-ceda87463222"
      },
      "execution_count": 24,
      "outputs": [
        {
          "output_type": "stream",
          "name": "stdout",
          "text": [
            "Accuracy for class: Normal is 92.3 %\n",
            "Accuracy for class: Covid is 25.0 %\n",
            "Accuracy for class: Viral Pneumonia is 85.0 %\n"
          ]
        }
      ]
    },
    {
      "cell_type": "code",
      "source": [
        "from sklearn.metrics import confusion_matrix\n",
        "import seaborn as sn\n",
        "import pandas as pd\n",
        "\n",
        "y_pred = []\n",
        "y_true = []\n",
        "\n",
        "model.to('cpu')\n",
        "\n",
        "# iterate over test data\n",
        "for inputs, labels in testloader:\n",
        "        #reshape images so they can be fed to a nn.Linear()\n",
        "        inputs = inputs.view(inputs.size(0), -1)\n",
        "        output = model(inputs) # Feed Network\n",
        "\n",
        "        output = (torch.max(torch.exp(output), 1)[1]).data.cpu().numpy()\n",
        "        y_pred.extend(output) # Save Prediction\n",
        "        \n",
        "        labels = labels.data.cpu().numpy()\n",
        "        y_true.extend(labels) # Save Truth\n",
        "\n",
        "# constant for classes\n",
        "classes = ('Normal', 'Covid', 'Viral Pneumonia')\n",
        "\n",
        "# Build confusion matrix\n",
        "cf_matrix = confusion_matrix(y_true, y_pred)\n",
        "df_cm = pd.DataFrame(cf_matrix/np.sum(cf_matrix) *10, index = [i for i in classes],\n",
        "                     columns = [i for i in classes])\n",
        "plt.figure(figsize = (20,10))\n",
        "sn.heatmap(df_cm, annot=True)\n",
        "# plt.savefig('output.png')"
      ],
      "metadata": {
        "colab": {
          "base_uri": "https://localhost:8080/",
          "height": 609
        },
        "id": "OO2nv6nYrurk",
        "outputId": "11f523f9-bc6d-4262-bdee-9ea07771f079"
      },
      "execution_count": 25,
      "outputs": [
        {
          "output_type": "execute_result",
          "data": {
            "text/plain": [
              "<matplotlib.axes._subplots.AxesSubplot at 0x7f52b2e7cfd0>"
            ]
          },
          "metadata": {},
          "execution_count": 25
        },
        {
          "output_type": "display_data",
          "data": {
            "text/plain": [
              "<Figure size 1440x720 with 2 Axes>"
            ],
            "image/png": "[encoded data removed]"
          },
          "metadata": {
            "needs_background": "light"
          }
        }
      ]
    },
    {
      "cell_type": "code",
      "source": [],
      "metadata": {
        "id": "uE_sbKx1r21M"
      },
      "execution_count": null,
      "outputs": []
    },
    {
      "cell_type": "markdown",
      "metadata": {
        "id": "CW6A4Pmj8zuo"
      },
      "source": [
        "b) Create and train a ConvNet corresponding to the following architecture in Fig. 1 (with modifications of the input and final layers). Please include **(10 marks)**:\n",
        "\n",
        "    1) The dataloader to load the train and test datasets.\n",
        "\n",
        "    2) The model definition (either using sequential method OR pytorch class method).\n",
        "\n",
        "    3) Define your training loop.\n",
        "\n",
        "    4) Output the mean accuracy for the whole testing dataset.\n",
        "\n",
        "![pic](https://raw.githubusercontent.com/CUTe-EmbeddedAI/images/main/images/LeNet.png)\n",
        "    \n",
        "                                Fig. 1: A convolutional neural network"
      ]
    },
    {
      "cell_type": "code",
      "execution_count": 26,
      "metadata": {
        "id": "5Ue0OHCL8zup"
      },
      "outputs": [],
      "source": [
        "import os\n",
        "\n",
        "#Numpy is linear algebra lbrary\n",
        "import numpy as np\n",
        "# Matplotlib is a visualizations library \n",
        "import matplotlib.pyplot as plt\n",
        "import torch\n",
        "import torch.nn as nn\n",
        "import torch.optim as optim\n",
        "import torchvision\n",
        "import torchvision.transforms as transforms"
      ]
    },
    {
      "cell_type": "code",
      "source": [
        "from google.colab import drive\n",
        "drive.mount('/content/gdrive')"
      ],
      "metadata": {
        "colab": {
          "base_uri": "https://localhost:8080/"
        },
        "id": "n4ku0j9jr7WG",
        "outputId": "888b5ff2-be23-46e6-9103-8adb1ebd0a4c"
      },
      "execution_count": 27,
      "outputs": [
        {
          "output_type": "stream",
          "name": "stdout",
          "text": [
            "Drive already mounted at /content/gdrive; to attempt to forcibly remount, call drive.mount(\"/content/gdrive\", force_remount=True).\n"
          ]
        }
      ]
    },
    {
      "cell_type": "code",
      "source": [
        "# Data Loader\n",
        "transform = transforms.Compose(\n",
        "    [   transforms.Resize((32,32)),\n",
        "        transforms.ToTensor(),\n",
        "        transforms.Normalize((0.5), (0.5)),\n",
        "        transforms.Grayscale(num_output_channels=1) ])"
      ],
      "metadata": {
        "id": "agc14OMusAq0"
      },
      "execution_count": 28,
      "outputs": []
    },
    {
      "cell_type": "code",
      "source": [
        "batch_size = 32\n",
        "\n",
        "\n",
        "dataset = '/content/gdrive/MyDrive/MV/Covid19-dataset'\n",
        "\n",
        "train_directory = os.path.join(dataset, 'train')\n",
        "test_directory = os.path.join(dataset, 'test')\n",
        "\n",
        "\n",
        "trainset = torchvision.datasets.ImageFolder(root=train_directory, transform=transform)\n",
        "trainloader = torch.utils.data.DataLoader(trainset, batch_size=batch_size, shuffle=True)\n",
        "\n",
        "testset = torchvision.datasets.ImageFolder(root=test_directory, transform=transform)\n",
        "testloader = torch.utils.data.DataLoader(testset, batch_size=batch_size, shuffle=True)\n",
        "\n",
        "classes = ('Normal', 'Covid', 'Viral Pneumonia')"
      ],
      "metadata": {
        "id": "XImKOp98sDi2"
      },
      "execution_count": 29,
      "outputs": []
    },
    {
      "cell_type": "code",
      "source": [
        "train_data_size = len(trainloader.dataset)\n",
        "test_data_size = len(testloader.dataset)\n",
        "\n",
        "print(train_data_size)\n",
        "print(test_data_size)"
      ],
      "metadata": {
        "colab": {
          "base_uri": "https://localhost:8080/"
        },
        "id": "OZmLwlDvsSo9",
        "outputId": "d2321765-04f3-4ee7-960b-77cefb991a2b"
      },
      "execution_count": 30,
      "outputs": [
        {
          "output_type": "stream",
          "name": "stdout",
          "text": [
            "258\n",
            "66\n"
          ]
        }
      ]
    },
    {
      "cell_type": "code",
      "source": [
        "class CNN(nn.Module):\n",
        "    def __init__(self):\n",
        "        super(CNN, self).__init__()\n",
        "        self.conv1 = nn.Conv2d(1, 6, 5, 1)\n",
        "        self.pool1 = nn.MaxPool2d(2, 2)\n",
        "        self.conv2 = nn.Conv2d(6, 16, 5, 1)\n",
        "        self.pool2 = nn.MaxPool2d(2, 2)\n",
        "        self.fc1 = nn.Linear(400, 120)\n",
        "        self.fc2 = nn.Linear(120, 10)\n",
        "        self.relu = nn.ReLU()\n",
        "\n",
        "    def forward(self, x):\n",
        "        x = self.pool1(self.relu(self.conv1(x)))\n",
        "        x = self.pool2(self.relu(self.conv2(x)))\n",
        "        x = x.view(-1, 400)\n",
        "        x = self.relu(self.fc1(x))\n",
        "        x = self.fc2(x) \n",
        "        return x"
      ],
      "metadata": {
        "id": "4x6gKpQUsWCU"
      },
      "execution_count": 31,
      "outputs": []
    },
    {
      "cell_type": "code",
      "source": [
        "model = CNN() # need to instantiate the network to be used in instance method\n",
        "\n",
        "# 2. LOSS AND OPTIMIZER\n",
        "criterion = nn.CrossEntropyLoss()\n",
        "optimizer = optim.SGD(model.parameters(), lr=0.001, momentum=0.9)\n",
        "\n",
        "# 3. move the model to GPU\n",
        "device = torch.device('cuda:0' if torch.cuda.is_available() else 'cpu')\n",
        "model.to(device)"
      ],
      "metadata": {
        "colab": {
          "base_uri": "https://localhost:8080/"
        },
        "id": "FYSQL1qXsZmc",
        "outputId": "e93bb943-3636-4f79-b850-879a22d1344f"
      },
      "execution_count": 32,
      "outputs": [
        {
          "output_type": "execute_result",
          "data": {
            "text/plain": [
              "CNN(\n",
              "  (conv1): Conv2d(1, 6, kernel_size=(5, 5), stride=(1, 1))\n",
              "  (pool1): MaxPool2d(kernel_size=2, stride=2, padding=0, dilation=1, ceil_mode=False)\n",
              "  (conv2): Conv2d(6, 16, kernel_size=(5, 5), stride=(1, 1))\n",
              "  (pool2): MaxPool2d(kernel_size=2, stride=2, padding=0, dilation=1, ceil_mode=False)\n",
              "  (fc1): Linear(in_features=400, out_features=120, bias=True)\n",
              "  (fc2): Linear(in_features=120, out_features=10, bias=True)\n",
              "  (relu): ReLU()\n",
              ")"
            ]
          },
          "metadata": {},
          "execution_count": 32
        }
      ]
    },
    {
      "cell_type": "code",
      "source": [
        "torch.backends.cudnn.enabled = False\n"
      ],
      "metadata": {
        "id": "tndc5DhFscSU"
      },
      "execution_count": 33,
      "outputs": []
    },
    {
      "cell_type": "code",
      "source": [
        "import time # to calculate training time\n",
        "\n",
        "def train_and_validate(model, loss_criterion, optimizer, epochs=25):\n",
        "    '''\n",
        "    Function to train and validate\n",
        "    Parameters\n",
        "        :param model: Model to train and validate\n",
        "        :param loss_criterion: Loss Criterion to minimize\n",
        "        :param optimizer: Optimizer for computing gradients\n",
        "        :param epochs: Number of epochs (default=25)\n",
        "  \n",
        "    Returns\n",
        "        model: Trained Model with best validation accuracy\n",
        "        history: (dict object): Having training loss, accuracy and validation loss, accuracy\n",
        "    '''\n",
        "    \n",
        "    start = time.time()\n",
        "    history = []\n",
        "    best_acc = 0.0\n",
        "\n",
        "    for epoch in range(epochs):\n",
        "        epoch_start = time.time()\n",
        "        print(\"Epoch: {}/{}\".format(epoch+1, epochs))\n",
        "        \n",
        "        # Set to training mode\n",
        "        model.train()\n",
        "        \n",
        "        # Loss and Accuracy within the epoch\n",
        "        train_loss = 0.0\n",
        "        train_acc = 0.0\n",
        "        \n",
        "        valid_loss = 0.0\n",
        "        valid_acc = 0.0\n",
        "        \n",
        "        for i, (inputs, labels) in enumerate(trainloader):\n",
        "\n",
        "            inputs = inputs.to(device)\n",
        "            labels = labels.to(device)\n",
        "            \n",
        "            # Clean existing gradients\n",
        "            optimizer.zero_grad()\n",
        "            \n",
        "            # Forward pass - compute outputs on input data using the model\n",
        "            outputs = model(inputs)\n",
        "            \n",
        "            # Compute loss\n",
        "            loss = loss_criterion(outputs, labels)\n",
        "            \n",
        "            # Backpropagate the gradients\n",
        "            loss.backward()\n",
        "            \n",
        "            # Update the parameters\n",
        "            optimizer.step()\n",
        "            \n",
        "            # Compute the total loss for the batch and add it to train_loss\n",
        "            train_loss += loss.item() * inputs.size(0)\n",
        "            \n",
        "            # Compute the accuracy\n",
        "            ret, predictions = torch.max(outputs.data, 1)\n",
        "            correct_counts = predictions.eq(labels.data.view_as(predictions))\n",
        "            \n",
        "            # Convert correct_counts to float and then compute the mean\n",
        "            acc = torch.mean(correct_counts.type(torch.FloatTensor))\n",
        "            \n",
        "            # Compute total accuracy in the whole batch and add to train_acc\n",
        "            train_acc += acc.item() * inputs.size(0)\n",
        "            \n",
        "            #print(\"Batch number: {:03d}, Training: Loss: {:.4f}, Accuracy: {:.4f}\".format(i, loss.item(), acc.item()))\n",
        "\n",
        "            \n",
        "        # Validation - No gradient tracking needed\n",
        "        with torch.no_grad():\n",
        "\n",
        "            # Set to evaluation mode\n",
        "            model.eval()\n",
        "\n",
        "            # Validation loop\n",
        "            for j, (inputs, labels) in enumerate(testloader):\n",
        "                inputs = inputs.to(device)\n",
        "                labels = labels.to(device)\n",
        "\n",
        "                # Forward pass - compute outputs on input data using the model\n",
        "                outputs = model(inputs)\n",
        "\n",
        "                # Compute loss\n",
        "                loss = loss_criterion(outputs, labels)\n",
        "\n",
        "                # Compute the total loss for the batch and add it to valid_loss\n",
        "                valid_loss += loss.item() * inputs.size(0)\n",
        "\n",
        "                # Calculate validation accuracy\n",
        "                ret, predictions = torch.max(outputs.data, 1)\n",
        "                correct_counts = predictions.eq(labels.data.view_as(predictions))\n",
        "\n",
        "                # Convert correct_counts to float and then compute the mean\n",
        "                acc = torch.mean(correct_counts.type(torch.FloatTensor))\n",
        "\n",
        "                # Compute total accuracy in the whole batch and add to valid_acc\n",
        "                valid_acc += acc.item() * inputs.size(0)\n",
        "\n",
        "                #print(\"Validation Batch number: {:03d}, Validation: Loss: {:.4f}, Accuracy: {:.4f}\".format(j, loss.item(), acc.item()))\n",
        "            \n",
        "        # Find average training loss and training accuracy\n",
        "        avg_train_loss = train_loss/train_data_size \n",
        "        avg_train_acc = train_acc/train_data_size\n",
        "\n",
        "        # Find average training loss and training accuracy\n",
        "        avg_test_loss = valid_loss/test_data_size \n",
        "        avg_test_acc = valid_acc/test_data_size\n",
        "\n",
        "        history.append([avg_train_loss, avg_test_loss, avg_train_acc, avg_test_acc])\n",
        "                \n",
        "        epoch_end = time.time()\n",
        "    \n",
        "        print(\"Epoch : {:03d}, Training: Loss: {:.4f}, Accuracy: {:.4f}%, \\n\\t\\tValidation : Loss : {:.4f}, Accuracy: {:.4f}%, Time: {:.4f}s\".format(epoch, avg_train_loss, avg_train_acc*100, avg_test_loss, avg_test_acc*100, epoch_end-epoch_start))\n",
        "      \n",
        "            \n",
        "    return model, history"
      ],
      "metadata": {
        "id": "1Gbg5wk9sfH8"
      },
      "execution_count": 34,
      "outputs": []
    },
    {
      "cell_type": "code",
      "source": [
        "num_epochs = 25\n",
        "trained_model, history = train_and_validate(model, criterion, optimizer, num_epochs)\n"
      ],
      "metadata": {
        "colab": {
          "base_uri": "https://localhost:8080/"
        },
        "id": "__Jj3izPslYk",
        "outputId": "b1a078a6-7974-4b63-f841-88667792f36d"
      },
      "execution_count": 35,
      "outputs": [
        {
          "output_type": "stream",
          "name": "stdout",
          "text": [
            "Epoch: 1/25\n",
            "Epoch : 000, Training: Loss: 2.3249, Accuracy: 0.0000%, \n",
            "\t\tValidation : Loss : 2.3077, Accuracy: 0.0000%, Time: 23.5872s\n",
            "Epoch: 2/25\n",
            "Epoch : 001, Training: Loss: 2.2921, Accuracy: 0.0000%, \n",
            "\t\tValidation : Loss : 2.2643, Accuracy: 12.1212%, Time: 17.7216s\n",
            "Epoch: 3/25\n",
            "Epoch : 002, Training: Loss: 2.2426, Accuracy: 37.5969%, \n",
            "\t\tValidation : Loss : 2.2092, Accuracy: 63.6364%, Time: 17.7330s\n",
            "Epoch: 4/25\n",
            "Epoch : 003, Training: Loss: 2.1800, Accuracy: 56.9767%, \n",
            "\t\tValidation : Loss : 2.1383, Accuracy: 46.9697%, Time: 17.7682s\n",
            "Epoch: 5/25\n",
            "Epoch : 004, Training: Loss: 2.0982, Accuracy: 51.1628%, \n",
            "\t\tValidation : Loss : 2.0417, Accuracy: 39.3939%, Time: 17.8935s\n",
            "Epoch: 6/25\n",
            "Epoch : 005, Training: Loss: 1.9831, Accuracy: 44.1860%, \n",
            "\t\tValidation : Loss : 1.9023, Accuracy: 39.3939%, Time: 19.9168s\n",
            "Epoch: 7/25\n",
            "Epoch : 006, Training: Loss: 1.8116, Accuracy: 43.0233%, \n",
            "\t\tValidation : Loss : 1.6910, Accuracy: 39.3939%, Time: 18.5314s\n",
            "Epoch: 8/25\n",
            "Epoch : 007, Training: Loss: 1.5653, Accuracy: 43.0233%, \n",
            "\t\tValidation : Loss : 1.4201, Accuracy: 39.3939%, Time: 19.2220s\n",
            "Epoch: 9/25\n",
            "Epoch : 008, Training: Loss: 1.2932, Accuracy: 43.0233%, \n",
            "\t\tValidation : Loss : 1.2028, Accuracy: 39.3939%, Time: 18.0359s\n",
            "Epoch: 10/25\n",
            "Epoch : 009, Training: Loss: 1.1163, Accuracy: 43.0233%, \n",
            "\t\tValidation : Loss : 1.0819, Accuracy: 39.3939%, Time: 18.0256s\n",
            "Epoch: 11/25\n",
            "Epoch : 010, Training: Loss: 1.0277, Accuracy: 43.0233%, \n",
            "\t\tValidation : Loss : 1.0237, Accuracy: 46.9697%, Time: 17.7804s\n",
            "Epoch: 12/25\n",
            "Epoch : 011, Training: Loss: 0.9788, Accuracy: 65.1163%, \n",
            "\t\tValidation : Loss : 0.9826, Accuracy: 66.6667%, Time: 17.7133s\n",
            "Epoch: 13/25\n",
            "Epoch : 012, Training: Loss: 0.9326, Accuracy: 79.4574%, \n",
            "\t\tValidation : Loss : 0.9392, Accuracy: 72.7273%, Time: 18.2337s\n",
            "Epoch: 14/25\n",
            "Epoch : 013, Training: Loss: 0.9121, Accuracy: 65.5039%, \n",
            "\t\tValidation : Loss : 0.9001, Accuracy: 65.1515%, Time: 17.9172s\n",
            "Epoch: 15/25\n",
            "Epoch : 014, Training: Loss: 0.8678, Accuracy: 60.4651%, \n",
            "\t\tValidation : Loss : 0.8707, Accuracy: 65.1515%, Time: 17.7339s\n",
            "Epoch: 16/25\n",
            "Epoch : 015, Training: Loss: 0.7981, Accuracy: 75.1938%, \n",
            "\t\tValidation : Loss : 0.7968, Accuracy: 84.8485%, Time: 17.9435s\n",
            "Epoch: 17/25\n",
            "Epoch : 016, Training: Loss: 0.7343, Accuracy: 80.6202%, \n",
            "\t\tValidation : Loss : 0.7535, Accuracy: 71.2121%, Time: 17.7074s\n",
            "Epoch: 18/25\n",
            "Epoch : 017, Training: Loss: 0.6588, Accuracy: 83.7209%, \n",
            "\t\tValidation : Loss : 0.6858, Accuracy: 83.3333%, Time: 19.2611s\n",
            "Epoch: 19/25\n",
            "Epoch : 018, Training: Loss: 0.6078, Accuracy: 82.5581%, \n",
            "\t\tValidation : Loss : 0.6334, Accuracy: 80.3030%, Time: 17.9270s\n",
            "Epoch: 20/25\n",
            "Epoch : 019, Training: Loss: 0.5459, Accuracy: 82.1705%, \n",
            "\t\tValidation : Loss : 0.5898, Accuracy: 80.3030%, Time: 17.6754s\n",
            "Epoch: 21/25\n",
            "Epoch : 020, Training: Loss: 0.4895, Accuracy: 85.6589%, \n",
            "\t\tValidation : Loss : 0.5285, Accuracy: 81.8182%, Time: 18.2456s\n",
            "Epoch: 22/25\n",
            "Epoch : 021, Training: Loss: 0.4709, Accuracy: 87.2093%, \n",
            "\t\tValidation : Loss : 0.5302, Accuracy: 81.8182%, Time: 18.2196s\n",
            "Epoch: 23/25\n",
            "Epoch : 022, Training: Loss: 0.4096, Accuracy: 88.3721%, \n",
            "\t\tValidation : Loss : 0.4728, Accuracy: 86.3636%, Time: 17.9327s\n",
            "Epoch: 24/25\n",
            "Epoch : 023, Training: Loss: 0.3957, Accuracy: 86.4341%, \n",
            "\t\tValidation : Loss : 0.5025, Accuracy: 83.3333%, Time: 18.0952s\n",
            "Epoch: 25/25\n",
            "Epoch : 024, Training: Loss: 0.3597, Accuracy: 88.3721%, \n",
            "\t\tValidation : Loss : 0.4374, Accuracy: 81.8182%, Time: 17.7477s\n"
          ]
        }
      ]
    },
    {
      "cell_type": "code",
      "source": [
        "# 5. Analyze the loss curve\n",
        "\n",
        "history = np.array(history)\n",
        "plt.plot(history[:,0:2])\n",
        "plt.legend(['Tr Loss', 'Val Loss'])\n",
        "plt.xlabel('Epoch Number')\n",
        "plt.ylabel('Loss')\n",
        "plt.ylim(0,3)\n",
        "# plt.savefig('cifar10_loss_curve.png')\n",
        "plt.show()"
      ],
      "metadata": {
        "colab": {
          "base_uri": "https://localhost:8080/",
          "height": 283
        },
        "id": "_eXOOHdYubdd",
        "outputId": "f038eb42-c655-47c9-b77a-ff4380622082"
      },
      "execution_count": 36,
      "outputs": [
        {
          "output_type": "display_data",
          "data": {
            "text/plain": [
              "<Figure size 432x288 with 1 Axes>"
            ],
            "image/png": "[encoded data removed]"
          },
          "metadata": {
            "needs_background": "light"
          }
        }
      ]
    },
    {
      "cell_type": "code",
      "source": [
        "# 6. Analyze the accuracy curve\n",
        "\n",
        "plt.plot(history[:,2:4])\n",
        "plt.legend(['Tr Accuracy', 'Val Accuracy'])\n",
        "plt.xlabel('Epoch Number')\n",
        "plt.ylabel('Accuracy')\n",
        "plt.ylim(0,1)\n",
        "# plt.savefig('cifar10_accuracy_curve.png')\n",
        "plt.show()"
      ],
      "metadata": {
        "colab": {
          "base_uri": "https://localhost:8080/",
          "height": 283
        },
        "id": "PsmvFM72ud9E",
        "outputId": "498b221a-2fc3-4198-ba5c-147cf4955c3b"
      },
      "execution_count": 37,
      "outputs": [
        {
          "output_type": "display_data",
          "data": {
            "text/plain": [
              "<Figure size 432x288 with 1 Axes>"
            ],
            "image/png": "[encoded data removed]"
          },
          "metadata": {
            "needs_background": "light"
          }
        }
      ]
    },
    {
      "cell_type": "code",
      "source": [
        "correct = 0\n",
        "total = 0\n",
        "# since we're not training, we don't need to calculate the gradients for our outputs\n",
        "with torch.no_grad():\n",
        "    for data in testloader:\n",
        "#         images, labels = data\n",
        "        images, labels = data[0].to(device), data[1].to(device)\n",
        "        # calculate outputs by running images through the network\n",
        "#         images = images.view(images.size(0), -1)\n",
        "        outputs = model(images)\n",
        "        # the class with the highest energy is what we choose as prediction\n",
        "        _, predicted = torch.max(outputs.data, 1)\n",
        "        total += labels.size(0)\n",
        "        correct += (predicted == labels).sum().item()\n",
        "\n",
        "print(f'Accuracy of the network on the 10000 test images: {100 * correct // total} %')"
      ],
      "metadata": {
        "colab": {
          "base_uri": "https://localhost:8080/"
        },
        "id": "CPR8oq8AuhVc",
        "outputId": "a912946d-fff2-4044-b154-e4262f58afaa"
      },
      "execution_count": 38,
      "outputs": [
        {
          "output_type": "stream",
          "name": "stdout",
          "text": [
            "Accuracy of the network on the 10000 test images: 81 %\n"
          ]
        }
      ]
    },
    {
      "cell_type": "code",
      "source": [
        "# prepare to count predictions for each class\n",
        "correct_pred = {classname: 0 for classname in classes}\n",
        "total_pred = {classname: 0 for classname in classes}\n",
        "\n",
        "# again no gradients needed\n",
        "with torch.no_grad():\n",
        "    for data in testloader:\n",
        "        images, labels = data[0].to(device), data[1].to(device)\n",
        "#         images = images.view(images.size(0), -1)\n",
        "        outputs = model(images)\n",
        "        _, predictions = torch.max(outputs, 1)\n",
        "        # collect the correct predictions for each class\n",
        "        for label, prediction in zip(labels, predictions):\n",
        "            if label == prediction:\n",
        "                correct_pred[classes[label]] += 1\n",
        "            total_pred[classes[label]] += 1\n",
        "\n",
        "\n",
        "# print accuracy for each class\n",
        "for classname, correct_count in correct_pred.items():\n",
        "    accuracy = 100 * float(correct_count) / total_pred[classname]\n",
        "    print(f'Accuracy for class: {classname:5s} is {accuracy:.1f} %')"
      ],
      "metadata": {
        "colab": {
          "base_uri": "https://localhost:8080/"
        },
        "id": "0GE1-1TpujrU",
        "outputId": "461f5f55-f916-46ed-c6ba-807955e40481"
      },
      "execution_count": 39,
      "outputs": [
        {
          "output_type": "stream",
          "name": "stdout",
          "text": [
            "Accuracy for class: Normal is 88.5 %\n",
            "Accuracy for class: Covid is 75.0 %\n",
            "Accuracy for class: Viral Pneumonia is 80.0 %\n"
          ]
        }
      ]
    },
    {
      "cell_type": "code",
      "source": [
        "from sklearn.metrics import confusion_matrix\n",
        "import seaborn as sn\n",
        "import pandas as pd\n",
        "\n",
        "y_pred = []\n",
        "y_true = []\n",
        "\n",
        "model.to('cpu')\n",
        "\n",
        "# iterate over test data\n",
        "for inputs, labels in testloader:\n",
        "#         #reshape images so they can be fed to a nn.Linear()\n",
        "#         inputs = inputs.view(inputs.size(0), -1)\n",
        "        output = model(inputs) # Feed Network\n",
        "\n",
        "        output = (torch.max(torch.exp(output), 1)[1]).data.cpu().numpy()\n",
        "        y_pred.extend(output) # Save Prediction\n",
        "        \n",
        "        labels = labels.data.cpu().numpy()\n",
        "        y_true.extend(labels) # Save Truth\n",
        "\n",
        "# constant for classes\n",
        "classes = ('Normal', 'Covid', 'Viral Pneumonia')\n",
        "\n",
        "# Build confusion matrix\n",
        "cf_matrix = confusion_matrix(y_true, y_pred)\n",
        "df_cm = pd.DataFrame(cf_matrix/np.sum(cf_matrix) *10, index = [i for i in classes],\n",
        "                     columns = [i for i in classes])\n",
        "plt.figure(figsize = (20,10))\n",
        "sn.heatmap(df_cm, annot=True)\n",
        "# plt.savefig('output.png')"
      ],
      "metadata": {
        "colab": {
          "base_uri": "https://localhost:8080/",
          "height": 609
        },
        "id": "fHJ4AjQ8uoQ0",
        "outputId": "ade882f4-f1d8-4fab-e176-736c4072819d"
      },
      "execution_count": 40,
      "outputs": [
        {
          "output_type": "execute_result",
          "data": {
            "text/plain": [
              "<matplotlib.axes._subplots.AxesSubplot at 0x7f52a0823700>"
            ]
          },
          "metadata": {},
          "execution_count": 40
        },
        {
          "output_type": "display_data",
          "data": {
            "text/plain": [
              "<Figure size 1440x720 with 2 Axes>"
            ],
            "image/png": "[encoded data removed]"
          },
          "metadata": {
            "needs_background": "light"
          }
        }
      ]
    },
    {
      "cell_type": "markdown",
      "metadata": {
        "id": "4VVDRFn8dv-0"
      },
      "source": [
        "c) Based on Question 2 b), answer the following questions: \n",
        "    \n",
        "    i) Is the model overfitting? Why? (4 marks)\n",
        "   <font color='blue'>YES. because of the model extensive data training.</font>\n",
        "    \n",
        "    ii) Propose two methods to reduce the effect of overfitting. (4 marks)\n",
        "   <font color='blue'>Two methods that I propose are: (1) increase the number of epoch (2) patch normalization </font>\n",
        "   \n",
        "    iii) Implement the two proposed methods in Q2 c) ii) in the next cell and show that the overfitting has been reduced. (8 marks)"
      ]
    },
    {
      "cell_type": "code",
      "execution_count": 41,
      "metadata": {
        "id": "JbvNLD26dv-1"
      },
      "outputs": [],
      "source": [
        "import os\n",
        "\n",
        "#Numpy is linear algebra lbrary\n",
        "import numpy as np\n",
        "# Matplotlib is a visualizations library \n",
        "import matplotlib.pyplot as plt\n",
        "import torch\n",
        "import torch.nn as nn\n",
        "import torch.optim as optim\n",
        "import torchvision\n",
        "import torchvision.transforms as transforms"
      ]
    },
    {
      "cell_type": "code",
      "source": [
        "from google.colab import drive\n",
        "drive.mount('/content/gdrive')"
      ],
      "metadata": {
        "id": "Ux_U15RHvJqt"
      },
      "execution_count": null,
      "outputs": []
    },
    {
      "cell_type": "code",
      "source": [
        "# Data Loader\n",
        "transform = transforms.Compose(\n",
        "    [   transforms.Resize((32,32)),\n",
        "        transforms.ToTensor(),\n",
        "        transforms.Normalize((0.5), (0.5)),\n",
        "        transforms.Grayscale(num_output_channels=1) ])"
      ],
      "metadata": {
        "id": "h-Ge4Xe8vMGs"
      },
      "execution_count": 42,
      "outputs": []
    },
    {
      "cell_type": "code",
      "source": [
        "batch_size = 32\n",
        "\n",
        "\n",
        "dataset = '/content/gdrive/MyDrive/MV/Covid19-dataset'\n",
        "\n",
        "train_directory = os.path.join(dataset, 'train')\n",
        "test_directory = os.path.join(dataset, 'test')\n",
        "\n",
        "\n",
        "trainset = torchvision.datasets.ImageFolder(root=train_directory, transform=transform)\n",
        "trainloader = torch.utils.data.DataLoader(trainset, batch_size=batch_size, shuffle=True)\n",
        "\n",
        "testset = torchvision.datasets.ImageFolder(root=test_directory, transform=transform)\n",
        "testloader = torch.utils.data.DataLoader(testset, batch_size=batch_size, shuffle=True)\n",
        "\n",
        "classes = ('Normal', 'Covid', 'Viral Pneumonia')"
      ],
      "metadata": {
        "id": "X2-F5_S3vO9Y"
      },
      "execution_count": null,
      "outputs": []
    },
    {
      "cell_type": "code",
      "source": [
        "train_data_size = len(trainloader.dataset)\n",
        "test_data_size = len(testloader.dataset)\n",
        "\n",
        "print(train_data_size)\n",
        "print(test_data_size)"
      ],
      "metadata": {
        "colab": {
          "base_uri": "https://localhost:8080/"
        },
        "id": "WneUJRM4vZc-",
        "outputId": "b6b800a5-9849-4fc8-90ee-89a364d00d11"
      },
      "execution_count": 43,
      "outputs": [
        {
          "output_type": "stream",
          "name": "stdout",
          "text": [
            "258\n",
            "66\n"
          ]
        }
      ]
    },
    {
      "cell_type": "code",
      "source": [
        "class CNN(nn.Module):\n",
        "    def __init__(self):\n",
        "        super(CNN, self).__init__()\n",
        "        self.conv1 = nn.Conv2d(1, 6, 5, 1)\n",
        "        self.pool1 = nn.MaxPool2d(2, 2)\n",
        "        self.conv2 = nn.Conv2d(6, 16, 5, 1)\n",
        "        self.pool2 = nn.MaxPool2d(2, 2)\n",
        "        self.fc1 = nn.Linear(400, 120)\n",
        "        self.fc2 = nn.Linear(120, 10)\n",
        "        self.relu = nn.ReLU()\n",
        "\n",
        "    def forward(self, x):\n",
        "        x = self.pool1(self.relu(self.conv1(x)))\n",
        "        x = self.pool2(self.relu(self.conv2(x)))\n",
        "        x = x.view(-1, 400)\n",
        "        x = self.relu(self.fc1(x))\n",
        "        x = self.fc2(x) \n",
        "        return x"
      ],
      "metadata": {
        "id": "8EUYd0UTvdGD"
      },
      "execution_count": 44,
      "outputs": []
    },
    {
      "cell_type": "code",
      "source": [
        "model = CNN() # need to instantiate the network to be used in instance method\n",
        "\n",
        "# 2. LOSS AND OPTIMIZER\n",
        "criterion = nn.CrossEntropyLoss()\n",
        "optimizer = optim.SGD(model.parameters(), lr=0.001, momentum=0.9)\n",
        "\n",
        "# 3. move the model to GPU\n",
        "device = torch.device('cuda:0' if torch.cuda.is_available() else 'cpu')\n",
        "model.to(device)"
      ],
      "metadata": {
        "colab": {
          "base_uri": "https://localhost:8080/"
        },
        "id": "D1c4wGr1vgCL",
        "outputId": "ac8d7f32-8173-4ec9-cb07-32cfcbefa580"
      },
      "execution_count": 45,
      "outputs": [
        {
          "output_type": "execute_result",
          "data": {
            "text/plain": [
              "CNN(\n",
              "  (conv1): Conv2d(1, 6, kernel_size=(5, 5), stride=(1, 1))\n",
              "  (pool1): MaxPool2d(kernel_size=2, stride=2, padding=0, dilation=1, ceil_mode=False)\n",
              "  (conv2): Conv2d(6, 16, kernel_size=(5, 5), stride=(1, 1))\n",
              "  (pool2): MaxPool2d(kernel_size=2, stride=2, padding=0, dilation=1, ceil_mode=False)\n",
              "  (fc1): Linear(in_features=400, out_features=120, bias=True)\n",
              "  (fc2): Linear(in_features=120, out_features=10, bias=True)\n",
              "  (relu): ReLU()\n",
              ")"
            ]
          },
          "metadata": {},
          "execution_count": 45
        }
      ]
    },
    {
      "cell_type": "code",
      "source": [
        "torch.backends.cudnn.enabled = False"
      ],
      "metadata": {
        "id": "GdyoSFxxvhg4"
      },
      "execution_count": 46,
      "outputs": []
    },
    {
      "cell_type": "code",
      "source": [
        "import time # to calculate training time\n",
        "\n",
        "def train_and_validate(model, loss_criterion, optimizer, epochs=25):\n",
        "    '''\n",
        "    Function to train and validate\n",
        "    Parameters\n",
        "        :param model: Model to train and validate\n",
        "        :param loss_criterion: Loss Criterion to minimize\n",
        "        :param optimizer: Optimizer for computing gradients\n",
        "        :param epochs: Number of epochs (default=25)\n",
        "  \n",
        "    Returns\n",
        "        model: Trained Model with best validation accuracy\n",
        "        history: (dict object): Having training loss, accuracy and validation loss, accuracy\n",
        "    '''\n",
        "    \n",
        "    start = time.time()\n",
        "    history = []\n",
        "    best_acc = 0.0\n",
        "\n",
        "    for epoch in range(epochs):\n",
        "        epoch_start = time.time()\n",
        "        print(\"Epoch: {}/{}\".format(epoch+1, epochs))\n",
        "        \n",
        "        # Set to training mode\n",
        "        model.train()\n",
        "        \n",
        "        # Loss and Accuracy within the epoch\n",
        "        train_loss = 0.0\n",
        "        train_acc = 0.0\n",
        "        \n",
        "        valid_loss = 0.0\n",
        "        valid_acc = 0.0\n",
        "        \n",
        "        for i, (inputs, labels) in enumerate(trainloader):\n",
        "\n",
        "            inputs = inputs.to(device)\n",
        "            labels = labels.to(device)\n",
        "            \n",
        "            # Clean existing gradients\n",
        "            optimizer.zero_grad()\n",
        "            \n",
        "            # Forward pass - compute outputs on input data using the model\n",
        "            outputs = model(inputs)\n",
        "            \n",
        "            # Compute loss\n",
        "            loss = loss_criterion(outputs, labels)\n",
        "            \n",
        "            # Backpropagate the gradients\n",
        "            loss.backward()\n",
        "            \n",
        "            # Update the parameters\n",
        "            optimizer.step()\n",
        "            \n",
        "            # Compute the total loss for the batch and add it to train_loss\n",
        "            train_loss += loss.item() * inputs.size(0)\n",
        "            \n",
        "            # Compute the accuracy\n",
        "            ret, predictions = torch.max(outputs.data, 1)\n",
        "            correct_counts = predictions.eq(labels.data.view_as(predictions))\n",
        "            \n",
        "            # Convert correct_counts to float and then compute the mean\n",
        "            acc = torch.mean(correct_counts.type(torch.FloatTensor))\n",
        "            \n",
        "            # Compute total accuracy in the whole batch and add to train_acc\n",
        "            train_acc += acc.item() * inputs.size(0)\n",
        "            \n",
        "            #print(\"Batch number: {:03d}, Training: Loss: {:.4f}, Accuracy: {:.4f}\".format(i, loss.item(), acc.item()))\n",
        "\n",
        "            \n",
        "        # Validation - No gradient tracking needed\n",
        "        with torch.no_grad():\n",
        "\n",
        "            # Set to evaluation mode\n",
        "            model.eval()\n",
        "\n",
        "            # Validation loop\n",
        "            for j, (inputs, labels) in enumerate(testloader):\n",
        "                inputs = inputs.to(device)\n",
        "                labels = labels.to(device)\n",
        "\n",
        "                # Forward pass - compute outputs on input data using the model\n",
        "                outputs = model(inputs)\n",
        "\n",
        "                # Compute loss\n",
        "                loss = loss_criterion(outputs, labels)\n",
        "\n",
        "                # Compute the total loss for the batch and add it to valid_loss\n",
        "                valid_loss += loss.item() * inputs.size(0)\n",
        "\n",
        "                # Calculate validation accuracy\n",
        "                ret, predictions = torch.max(outputs.data, 1)\n",
        "                correct_counts = predictions.eq(labels.data.view_as(predictions))\n",
        "\n",
        "                # Convert correct_counts to float and then compute the mean\n",
        "                acc = torch.mean(correct_counts.type(torch.FloatTensor))\n",
        "\n",
        "                # Compute total accuracy in the whole batch and add to valid_acc\n",
        "                valid_acc += acc.item() * inputs.size(0)\n",
        "\n",
        "                #print(\"Validation Batch number: {:03d}, Validation: Loss: {:.4f}, Accuracy: {:.4f}\".format(j, loss.item(), acc.item()))\n",
        "            \n",
        "        # Find average training loss and training accuracy\n",
        "        avg_train_loss = train_loss/train_data_size \n",
        "        avg_train_acc = train_acc/train_data_size\n",
        "\n",
        "        # Find average training loss and training accuracy\n",
        "        avg_test_loss = valid_loss/test_data_size \n",
        "        avg_test_acc = valid_acc/test_data_size\n",
        "\n",
        "        history.append([avg_train_loss, avg_test_loss, avg_train_acc, avg_test_acc])\n",
        "                \n",
        "        epoch_end = time.time()\n",
        "    \n",
        "        print(\"Epoch : {:03d}, Training: Loss: {:.4f}, Accuracy: {:.4f}%, \\n\\t\\tValidation : Loss : {:.4f}, Accuracy: {:.4f}%, Time: {:.4f}s\".format(epoch, avg_train_loss, avg_train_acc*100, avg_test_loss, avg_test_acc*100, epoch_end-epoch_start))\n",
        "      \n",
        "            \n",
        "    return model, history"
      ],
      "metadata": {
        "id": "52Gc9rvbvkCM"
      },
      "execution_count": 47,
      "outputs": []
    },
    {
      "cell_type": "code",
      "source": [
        "# increased epochs \n",
        "\n",
        "num_epochs = 50\n",
        "trained_model, history = train_and_validate(model, criterion, optimizer, num_epochs)"
      ],
      "metadata": {
        "colab": {
          "base_uri": "https://localhost:8080/"
        },
        "id": "oVnEtmg9vouc",
        "outputId": "c8d20ab7-5bbc-4e83-c853-cd38c2bfa315"
      },
      "execution_count": 49,
      "outputs": [
        {
          "output_type": "stream",
          "name": "stdout",
          "text": [
            "Epoch: 1/50\n",
            "Epoch : 000, Training: Loss: 2.1699, Accuracy: 42.6357%, \n",
            "\t\tValidation : Loss : 2.1229, Accuracy: 39.3939%, Time: 17.6667s\n",
            "Epoch: 2/50\n",
            "Epoch : 001, Training: Loss: 2.0738, Accuracy: 43.0233%, \n",
            "\t\tValidation : Loss : 2.0029, Accuracy: 39.3939%, Time: 17.4063s\n",
            "Epoch: 3/50\n",
            "Epoch : 002, Training: Loss: 1.9239, Accuracy: 43.0233%, \n",
            "\t\tValidation : Loss : 1.8098, Accuracy: 39.3939%, Time: 17.5944s\n",
            "Epoch: 4/50\n",
            "Epoch : 003, Training: Loss: 1.6843, Accuracy: 43.0233%, \n",
            "\t\tValidation : Loss : 1.5157, Accuracy: 39.3939%, Time: 17.8763s\n",
            "Epoch: 5/50\n",
            "Epoch : 004, Training: Loss: 1.3810, Accuracy: 43.0233%, \n",
            "\t\tValidation : Loss : 1.2636, Accuracy: 39.3939%, Time: 17.8097s\n",
            "Epoch: 6/50\n",
            "Epoch : 005, Training: Loss: 1.1667, Accuracy: 43.0233%, \n",
            "\t\tValidation : Loss : 1.1024, Accuracy: 54.5455%, Time: 17.8220s\n",
            "Epoch: 7/50\n",
            "Epoch : 006, Training: Loss: 1.0744, Accuracy: 50.3876%, \n",
            "\t\tValidation : Loss : 1.0620, Accuracy: 43.9394%, Time: 19.2337s\n",
            "Epoch: 8/50\n",
            "Epoch : 007, Training: Loss: 1.0396, Accuracy: 51.9380%, \n",
            "\t\tValidation : Loss : 1.0216, Accuracy: 63.6364%, Time: 17.6965s\n",
            "Epoch: 9/50\n",
            "Epoch : 008, Training: Loss: 0.9776, Accuracy: 62.4031%, \n",
            "\t\tValidation : Loss : 0.9927, Accuracy: 59.0909%, Time: 18.1054s\n",
            "Epoch: 10/50\n",
            "Epoch : 009, Training: Loss: 0.9327, Accuracy: 67.8295%, \n",
            "\t\tValidation : Loss : 0.9231, Accuracy: 56.0606%, Time: 17.5940s\n",
            "Epoch: 11/50\n",
            "Epoch : 010, Training: Loss: 0.8948, Accuracy: 55.8140%, \n",
            "\t\tValidation : Loss : 0.8798, Accuracy: 75.7576%, Time: 17.8409s\n",
            "Epoch: 12/50\n",
            "Epoch : 011, Training: Loss: 0.9036, Accuracy: 56.5891%, \n",
            "\t\tValidation : Loss : 0.8246, Accuracy: 63.6364%, Time: 19.2854s\n",
            "Epoch: 13/50\n",
            "Epoch : 012, Training: Loss: 0.7708, Accuracy: 78.6822%, \n",
            "\t\tValidation : Loss : 0.7752, Accuracy: 63.6364%, Time: 17.5705s\n",
            "Epoch: 14/50\n",
            "Epoch : 013, Training: Loss: 0.7187, Accuracy: 74.0310%, \n",
            "\t\tValidation : Loss : 0.7342, Accuracy: 66.6667%, Time: 17.4419s\n",
            "Epoch: 15/50\n",
            "Epoch : 014, Training: Loss: 0.6711, Accuracy: 81.7829%, \n",
            "\t\tValidation : Loss : 0.6907, Accuracy: 65.1515%, Time: 17.9424s\n",
            "Epoch: 16/50\n",
            "Epoch : 015, Training: Loss: 0.6310, Accuracy: 72.4806%, \n",
            "\t\tValidation : Loss : 0.6885, Accuracy: 65.1515%, Time: 19.3534s\n",
            "Epoch: 17/50\n",
            "Epoch : 016, Training: Loss: 0.6043, Accuracy: 74.8062%, \n",
            "\t\tValidation : Loss : 0.6086, Accuracy: 81.8182%, Time: 17.6516s\n",
            "Epoch: 18/50\n",
            "Epoch : 017, Training: Loss: 0.5499, Accuracy: 83.7209%, \n",
            "\t\tValidation : Loss : 0.6323, Accuracy: 65.1515%, Time: 18.0931s\n",
            "Epoch: 19/50\n",
            "Epoch : 018, Training: Loss: 0.5196, Accuracy: 77.9070%, \n",
            "\t\tValidation : Loss : 0.5565, Accuracy: 84.8485%, Time: 18.1917s\n",
            "Epoch: 20/50\n",
            "Epoch : 019, Training: Loss: 0.4838, Accuracy: 83.3333%, \n",
            "\t\tValidation : Loss : 0.5816, Accuracy: 69.6970%, Time: 18.1792s\n",
            "Epoch: 21/50\n",
            "Epoch : 020, Training: Loss: 0.4579, Accuracy: 86.4341%, \n",
            "\t\tValidation : Loss : 0.5484, Accuracy: 68.1818%, Time: 17.9993s\n",
            "Epoch: 22/50\n",
            "Epoch : 021, Training: Loss: 0.4571, Accuracy: 80.6202%, \n",
            "\t\tValidation : Loss : 0.5444, Accuracy: 78.7879%, Time: 17.9809s\n",
            "Epoch: 23/50\n",
            "Epoch : 022, Training: Loss: 0.4328, Accuracy: 82.5581%, \n",
            "\t\tValidation : Loss : 0.5159, Accuracy: 69.6970%, Time: 17.7997s\n",
            "Epoch: 24/50\n",
            "Epoch : 023, Training: Loss: 0.4410, Accuracy: 83.7209%, \n",
            "\t\tValidation : Loss : 0.6251, Accuracy: 66.6667%, Time: 17.9469s\n",
            "Epoch: 25/50\n",
            "Epoch : 024, Training: Loss: 0.3993, Accuracy: 84.1085%, \n",
            "\t\tValidation : Loss : 0.4508, Accuracy: 83.3333%, Time: 18.2062s\n",
            "Epoch: 26/50\n",
            "Epoch : 025, Training: Loss: 0.3887, Accuracy: 86.4341%, \n",
            "\t\tValidation : Loss : 0.7577, Accuracy: 62.1212%, Time: 19.2749s\n",
            "Epoch: 27/50\n",
            "Epoch : 026, Training: Loss: 0.4304, Accuracy: 79.4574%, \n",
            "\t\tValidation : Loss : 0.4484, Accuracy: 83.3333%, Time: 17.9077s\n",
            "Epoch: 28/50\n",
            "Epoch : 027, Training: Loss: 0.3852, Accuracy: 85.2713%, \n",
            "\t\tValidation : Loss : 0.4242, Accuracy: 83.3333%, Time: 17.7220s\n",
            "Epoch: 29/50\n",
            "Epoch : 028, Training: Loss: 0.3965, Accuracy: 81.7829%, \n",
            "\t\tValidation : Loss : 0.5881, Accuracy: 69.6970%, Time: 18.2671s\n",
            "Epoch: 30/50\n",
            "Epoch : 029, Training: Loss: 0.3728, Accuracy: 87.2093%, \n",
            "\t\tValidation : Loss : 0.5022, Accuracy: 74.2424%, Time: 18.1563s\n",
            "Epoch: 31/50\n",
            "Epoch : 030, Training: Loss: 0.3591, Accuracy: 85.6589%, \n",
            "\t\tValidation : Loss : 0.3923, Accuracy: 89.3939%, Time: 18.4058s\n",
            "Epoch: 32/50\n",
            "Epoch : 031, Training: Loss: 0.3579, Accuracy: 87.5969%, \n",
            "\t\tValidation : Loss : 0.5778, Accuracy: 69.6970%, Time: 18.2683s\n",
            "Epoch: 33/50\n",
            "Epoch : 032, Training: Loss: 0.3153, Accuracy: 87.5969%, \n",
            "\t\tValidation : Loss : 0.4192, Accuracy: 84.8485%, Time: 17.5457s\n",
            "Epoch: 34/50\n",
            "Epoch : 033, Training: Loss: 0.3500, Accuracy: 87.9845%, \n",
            "\t\tValidation : Loss : 0.6293, Accuracy: 69.6970%, Time: 17.9962s\n",
            "Epoch: 35/50\n",
            "Epoch : 034, Training: Loss: 0.3106, Accuracy: 87.9845%, \n",
            "\t\tValidation : Loss : 0.3920, Accuracy: 84.8485%, Time: 19.5822s\n",
            "Epoch: 36/50\n",
            "Epoch : 035, Training: Loss: 0.3321, Accuracy: 85.6589%, \n",
            "\t\tValidation : Loss : 0.4880, Accuracy: 81.8182%, Time: 17.8861s\n",
            "Epoch: 37/50\n",
            "Epoch : 036, Training: Loss: 0.4314, Accuracy: 84.1085%, \n",
            "\t\tValidation : Loss : 0.4412, Accuracy: 80.3030%, Time: 17.7770s\n",
            "Epoch: 38/50\n",
            "Epoch : 037, Training: Loss: 0.3174, Accuracy: 87.2093%, \n",
            "\t\tValidation : Loss : 0.4179, Accuracy: 81.8182%, Time: 17.8156s\n",
            "Epoch: 39/50\n",
            "Epoch : 038, Training: Loss: 0.2872, Accuracy: 87.2093%, \n",
            "\t\tValidation : Loss : 0.3680, Accuracy: 86.3636%, Time: 17.6709s\n",
            "Epoch: 40/50\n",
            "Epoch : 039, Training: Loss: 0.3450, Accuracy: 85.6589%, \n",
            "\t\tValidation : Loss : 0.5116, Accuracy: 71.2121%, Time: 18.0919s\n",
            "Epoch: 41/50\n",
            "Epoch : 040, Training: Loss: 0.2644, Accuracy: 88.7597%, \n",
            "\t\tValidation : Loss : 0.3959, Accuracy: 89.3939%, Time: 17.8419s\n",
            "Epoch: 42/50\n",
            "Epoch : 041, Training: Loss: 0.2688, Accuracy: 90.6977%, \n",
            "\t\tValidation : Loss : 0.4992, Accuracy: 74.2424%, Time: 17.9688s\n",
            "Epoch: 43/50\n",
            "Epoch : 042, Training: Loss: 0.2590, Accuracy: 89.9225%, \n",
            "\t\tValidation : Loss : 0.4032, Accuracy: 86.3636%, Time: 17.8361s\n",
            "Epoch: 44/50\n",
            "Epoch : 043, Training: Loss: 0.2452, Accuracy: 90.3101%, \n",
            "\t\tValidation : Loss : 0.4352, Accuracy: 81.8182%, Time: 18.7122s\n",
            "Epoch: 45/50\n",
            "Epoch : 044, Training: Loss: 0.2389, Accuracy: 90.6977%, \n",
            "\t\tValidation : Loss : 0.4058, Accuracy: 86.3636%, Time: 18.2919s\n",
            "Epoch: 46/50\n",
            "Epoch : 045, Training: Loss: 0.2598, Accuracy: 89.9225%, \n",
            "\t\tValidation : Loss : 0.4321, Accuracy: 80.3030%, Time: 17.8270s\n",
            "Epoch: 47/50\n",
            "Epoch : 046, Training: Loss: 0.2637, Accuracy: 88.7597%, \n",
            "\t\tValidation : Loss : 0.3970, Accuracy: 86.3636%, Time: 17.6361s\n",
            "Epoch: 48/50\n",
            "Epoch : 047, Training: Loss: 0.2341, Accuracy: 90.6977%, \n",
            "\t\tValidation : Loss : 0.4216, Accuracy: 84.8485%, Time: 17.6484s\n",
            "Epoch: 49/50\n",
            "Epoch : 048, Training: Loss: 0.2342, Accuracy: 90.6977%, \n",
            "\t\tValidation : Loss : 0.4449, Accuracy: 84.8485%, Time: 17.6088s\n",
            "Epoch: 50/50\n",
            "Epoch : 049, Training: Loss: 0.2318, Accuracy: 90.6977%, \n",
            "\t\tValidation : Loss : 0.3825, Accuracy: 87.8788%, Time: 17.7109s\n"
          ]
        }
      ]
    },
    {
      "cell_type": "code",
      "source": [
        "# 5. Analyze the loss curve\n",
        "\n",
        "history = np.array(history)\n",
        "plt.plot(history[:,0:2])\n",
        "plt.legend(['Tr Loss', 'Val Loss'])\n",
        "plt.xlabel('Epoch Number')\n",
        "plt.ylabel('Loss')\n",
        "plt.ylim(0,3)\n",
        "# plt.savefig('cifar10_loss_curve.png')\n",
        "plt.show()"
      ],
      "metadata": {
        "colab": {
          "base_uri": "https://localhost:8080/",
          "height": 283
        },
        "id": "t-Lht5Zew1rs",
        "outputId": "fbab3299-486a-4078-f887-998cd9779fe9"
      },
      "execution_count": 50,
      "outputs": [
        {
          "output_type": "display_data",
          "data": {
            "text/plain": [
              "<Figure size 432x288 with 1 Axes>"
            ],
            "image/png": "[encoded data removed]"
          },
          "metadata": {
            "needs_background": "light"
          }
        }
      ]
    },
    {
      "cell_type": "code",
      "source": [
        "# 6. Analyze the accuracy curve\n",
        "\n",
        "plt.plot(history[:,2:4])\n",
        "plt.legend(['Tr Accuracy', 'Val Accuracy'])\n",
        "plt.xlabel('Epoch Number')\n",
        "plt.ylabel('Accuracy')\n",
        "plt.ylim(0,1)\n",
        "# plt.savefig('cifar10_accuracy_curve.png')\n",
        "plt.show()"
      ],
      "metadata": {
        "colab": {
          "base_uri": "https://localhost:8080/",
          "height": 283
        },
        "id": "Gw3ucpkczsZ7",
        "outputId": "4a3d9656-8289-4e34-ed51-11830421562a"
      },
      "execution_count": 51,
      "outputs": [
        {
          "output_type": "display_data",
          "data": {
            "text/plain": [
              "<Figure size 432x288 with 1 Axes>"
            ],
            "image/png": "[encoded data removed]"
          },
          "metadata": {
            "needs_background": "light"
          }
        }
      ]
    },
    {
      "cell_type": "code",
      "source": [
        "correct = 0\n",
        "total = 0\n",
        "# since we're not training, we don't need to calculate the gradients for our outputs\n",
        "with torch.no_grad():\n",
        "    for data in testloader:\n",
        "#         images, labels = data\n",
        "        images, labels = data[0].to(device), data[1].to(device)\n",
        "        # calculate outputs by running images through the network\n",
        "#         images = images.view(images.size(0), -1)\n",
        "        outputs = model(images)\n",
        "        # the class with the highest energy is what we choose as prediction\n",
        "        _, predicted = torch.max(outputs.data, 1)\n",
        "        total += labels.size(0)\n",
        "        correct += (predicted == labels).sum().item()\n",
        "\n",
        "print(f'Accuracy of the network on the 10000 test images: {100 * correct // total} %')"
      ],
      "metadata": {
        "colab": {
          "base_uri": "https://localhost:8080/"
        },
        "id": "yStPiJkNzvLT",
        "outputId": "6e166e30-bd89-4ee2-ff5f-76dde2f0103a"
      },
      "execution_count": 52,
      "outputs": [
        {
          "output_type": "stream",
          "name": "stdout",
          "text": [
            "Accuracy of the network on the 10000 test images: 87 %\n"
          ]
        }
      ]
    },
    {
      "cell_type": "code",
      "source": [
        "# prepare to count predictions for each class\n",
        "correct_pred = {classname: 0 for classname in classes}\n",
        "total_pred = {classname: 0 for classname in classes}\n",
        "\n",
        "# again no gradients needed\n",
        "with torch.no_grad():\n",
        "    for data in testloader:\n",
        "        images, labels = data[0].to(device), data[1].to(device)\n",
        "#         images = images.view(images.size(0), -1)\n",
        "        outputs = model(images)\n",
        "        _, predictions = torch.max(outputs, 1)\n",
        "        # collect the correct predictions for each class\n",
        "        for label, prediction in zip(labels, predictions):\n",
        "            if label == prediction:\n",
        "                correct_pred[classes[label]] += 1\n",
        "            total_pred[classes[label]] += 1\n",
        "\n",
        "\n",
        "# print accuracy for each class\n",
        "for classname, correct_count in correct_pred.items():\n",
        "    accuracy = 100 * float(correct_count) / total_pred[classname]\n",
        "    print(f'Accuracy for class: {classname:5s} is {accuracy:.1f} %')"
      ],
      "metadata": {
        "colab": {
          "base_uri": "https://localhost:8080/"
        },
        "id": "n0EUJEv4zyhc",
        "outputId": "07a70316-04f6-4299-b10f-48a2cc73d963"
      },
      "execution_count": 53,
      "outputs": [
        {
          "output_type": "stream",
          "name": "stdout",
          "text": [
            "Accuracy for class: Normal is 92.3 %\n",
            "Accuracy for class: Covid is 75.0 %\n",
            "Accuracy for class: Viral Pneumonia is 95.0 %\n"
          ]
        }
      ]
    },
    {
      "cell_type": "code",
      "source": [
        "from sklearn.metrics import confusion_matrix\n",
        "import seaborn as sn\n",
        "import pandas as pd\n",
        "\n",
        "y_pred = []\n",
        "y_true = []\n",
        "\n",
        "model.to('cpu')\n",
        "\n",
        "# iterate over test data\n",
        "for inputs, labels in testloader:\n",
        "#         #reshape images so they can be fed to a nn.Linear()\n",
        "#         inputs = inputs.view(inputs.size(0), -1)\n",
        "        output = model(inputs) # Feed Network\n",
        "\n",
        "        output = (torch.max(torch.exp(output), 1)[1]).data.cpu().numpy()\n",
        "        y_pred.extend(output) # Save Prediction\n",
        "\n",
        "        labels = labels.data.cpu().numpy()\n",
        "        y_true.extend(labels) # Save Truth\n",
        "\n",
        "# constant for classes\n",
        "classes = ('Normal', 'Covid', 'Viral Pneumonia')\n",
        "\n",
        "# Build confusion matrix\n",
        "cf_matrix = confusion_matrix(y_true, y_pred)\n",
        "df_cm = pd.DataFrame(cf_matrix/np.sum(cf_matrix) *10, index = [i for i in classes],\n",
        "                     columns = [i for i in classes])\n",
        "plt.figure(figsize = (20,10))\n",
        "sn.heatmap(df_cm, annot=True)\n",
        "# plt.savefig('output.png')"
      ],
      "metadata": {
        "colab": {
          "base_uri": "https://localhost:8080/",
          "height": 609
        },
        "id": "ot1Jzx2Iz15L",
        "outputId": "e4be2660-ab62-47b5-d859-72c296fc23bb"
      },
      "execution_count": 54,
      "outputs": [
        {
          "output_type": "execute_result",
          "data": {
            "text/plain": [
              "<matplotlib.axes._subplots.AxesSubplot at 0x7f52b2f8e040>"
            ]
          },
          "metadata": {},
          "execution_count": 54
        },
        {
          "output_type": "display_data",
          "data": {
            "text/plain": [
              "<Figure size 1440x720 with 2 Axes>"
            ],
            "image/png": "[encoded data removed]"
          },
          "metadata": {
            "needs_background": "light"
          }
        }
      ]
    },
    {
      "cell_type": "markdown",
      "metadata": {
        "id": "z1Zjsjxq8zuq"
      },
      "source": [
        "d) Replace your defined ConvNet in b) with a pre-trained model. Then, proceed with a transfer learning and finetune the model for the COVID-19 dataset. **(10 marks)**"
      ]
    },
    {
      "cell_type": "code",
      "execution_count": null,
      "metadata": {
        "id": "D4joDd5u8zur"
      },
      "outputs": [],
      "source": [
        "###############################################\n",
        "###############YOUR CODES HERE ################\n",
        "###############################################"
      ]
    },
    {
      "cell_type": "markdown",
      "metadata": {
        "id": "DzPPxsCX8zus"
      },
      "source": [
        "e) Do you see any accuracy improvement? Whether it is a \"yes\" or \"no\", discuss the possible reasons contributing to the accuracy improvement/ unimprovement. **(4 marks)**\n",
        "\n",
        "<span style=\"color:blue\">\n",
        "    Your answer here </span>"
      ]
    },
    {
      "cell_type": "markdown",
      "metadata": {
        "id": "FCy3b5888zut"
      },
      "source": [
        "**QUESTION 3** **[15 marks]**\n",
        "\n",
        "In a machine vision project, you decide to design a door access control system based on hand gestures. Only those who shows the correct hand gesture will be granted the access. There are three gestures that are recognized as correct access passcode which are \"shaka\", \"peace\" and \"thumbs up\", as depicted in Fig. 2.\n",
        "\n",
        "![pic](https://simplyorganizedhi.com/media/catalog/product/1/6/169500.jpg)\n",
        "\n",
        "                                Fig. 2 Shaka,peace, and thumbs up\n",
        "\n",
        "\n",
        "Using the end-to-end object detection pipeline that you have learned, develop your own hand gesture detector so that it can be incorporate to a door access control system.\n",
        "\n",
        "Deliverables for this question are:\n",
        "\n",
        "- the model file. Change the name to <your_name>.pt file (e.g. hasan.pt).\n",
        "\n",
        "- 5 marks for plausible detection of each gesture."
      ]
    },
    {
      "cell_type": "code",
      "execution_count": 55,
      "metadata": {
        "id": "9oIfLdzS8zut",
        "colab": {
          "base_uri": "https://localhost:8080/"
        },
        "outputId": "29948001-55b8-4912-db77-8e30ea3aae44"
      },
      "outputs": [
        {
          "output_type": "stream",
          "name": "stdout",
          "text": [
            "Cloning into 'yolov5'...\n",
            "remote: Enumerating objects: 14503, done.\u001b[K\n",
            "remote: Counting objects: 100% (26/26), done.\u001b[K\n",
            "remote: Compressing objects: 100% (16/16), done.\u001b[K\n",
            "remote: Total 14503 (delta 13), reused 17 (delta 10), pack-reused 14477\u001b[K\n",
            "Receiving objects: 100% (14503/14503), 13.66 MiB | 21.36 MiB/s, done.\n",
            "Resolving deltas: 100% (9985/9985), done.\n",
            "/content/yolov5\n",
            "\u001b[K     |████████████████████████████████| 182 kB 8.6 MB/s \n",
            "\u001b[K     |████████████████████████████████| 62 kB 1.1 MB/s \n",
            "\u001b[K     |████████████████████████████████| 1.6 MB 46.8 MB/s \n",
            "\u001b[K     |████████████████████████████████| 42 kB 657 kB/s \n",
            "\u001b[K     |████████████████████████████████| 54 kB 2.7 MB/s \n",
            "\u001b[K     |████████████████████████████████| 178 kB 57.0 MB/s \n",
            "\u001b[K     |████████████████████████████████| 145 kB 50.7 MB/s \n",
            "\u001b[K     |████████████████████████████████| 138 kB 59.1 MB/s \n",
            "\u001b[K     |████████████████████████████████| 67 kB 5.6 MB/s \n",
            "\u001b[K     |████████████████████████████████| 62 kB 1.3 MB/s \n",
            "\u001b[?25h  Building wheel for wget (setup.py) ... \u001b[?25l\u001b[?25hdone\n",
            "Setup complete. Using torch 1.13.0+cu116 (CPU)\n"
          ]
        }
      ],
      "source": [
        "#clone YOLOv5 and \n",
        "!git clone https://github.com/ultralytics/yolov5  # clone repo\n",
        "%cd yolov5\n",
        "%pip install -qr requirements.txt # install dependencies\n",
        "%pip install -q roboflow\n",
        "\n",
        "import torch\n",
        "import os\n",
        "from IPython.display import Image, clear_output  # to display images\n",
        "\n",
        "print(f\"Setup complete. Using torch {torch.__version__} ({torch.cuda.get_device_properties(0).name if torch.cuda.is_available() else 'CPU'})\")"
      ]
    },
    {
      "cell_type": "code",
      "source": [
        "from roboflow import Roboflow\n",
        "rf = Roboflow(model_format=\"yolov5\", notebook=\"ultralytics\")"
      ],
      "metadata": {
        "colab": {
          "base_uri": "https://localhost:8080/"
        },
        "id": "cGTzeOrs0YBB",
        "outputId": "143a16f8-457a-40ca-8943-f975f3468871"
      },
      "execution_count": 56,
      "outputs": [
        {
          "output_type": "stream",
          "name": "stdout",
          "text": [
            "upload and label your dataset, and get an API KEY here: https://app.roboflow.com/?model=yolov5&ref=ultralytics\n"
          ]
        }
      ]
    },
    {
      "cell_type": "code",
      "source": [
        "# set up environment\n",
        "os.environ[\"DATASET_DIRECTORY\"] = \"/content/datasets\""
      ],
      "metadata": {
        "id": "GHXRUptS0cai"
      },
      "execution_count": 57,
      "outputs": []
    },
    {
      "cell_type": "code",
      "source": [
        "!pip install roboflow\n",
        "\n",
        "from roboflow import Roboflow\n",
        "rf = Roboflow(api_key=\"oTtb04lt9XgsNsCrNuYb\")\n",
        "project = rf.workspace(\"faisal-el-dt7y4\").project(\"handsigns-hi0mi\")\n",
        "dataset = project.version(1).download(\"yolov5\")"
      ],
      "metadata": {
        "colab": {
          "base_uri": "https://localhost:8080/"
        },
        "id": "YO7VJ2lM0gPC",
        "outputId": "402bf993-b206-402e-8d5a-1b7936043c88"
      },
      "execution_count": 58,
      "outputs": [
        {
          "output_type": "stream",
          "name": "stdout",
          "text": [
            "Looking in indexes: https://pypi.org/simple, https://us-python.pkg.dev/colab-wheels/public/simple/\n",
            "Requirement already satisfied: roboflow in /usr/local/lib/python3.8/dist-packages (0.2.21)\n",
            "Requirement already satisfied: pyparsing==2.4.7 in /usr/local/lib/python3.8/dist-packages (from roboflow) (2.4.7)\n",
            "Requirement already satisfied: urllib3==1.26.6 in /usr/local/lib/python3.8/dist-packages (from roboflow) (1.26.6)\n",
            "Requirement already satisfied: requests-toolbelt in /usr/local/lib/python3.8/dist-packages (from roboflow) (0.10.1)\n",
            "Requirement already satisfied: PyYAML>=5.3.1 in /usr/local/lib/python3.8/dist-packages (from roboflow) (6.0)\n",
            "Requirement already satisfied: kiwisolver>=1.3.1 in /usr/local/lib/python3.8/dist-packages (from roboflow) (1.4.4)\n",
            "Requirement already satisfied: certifi==2021.5.30 in /usr/local/lib/python3.8/dist-packages (from roboflow) (2021.5.30)\n",
            "Requirement already satisfied: chardet==4.0.0 in /usr/local/lib/python3.8/dist-packages (from roboflow) (4.0.0)\n",
            "Requirement already satisfied: matplotlib in /usr/local/lib/python3.8/dist-packages (from roboflow) (3.2.2)\n",
            "Requirement already satisfied: Pillow>=7.1.2 in /usr/local/lib/python3.8/dist-packages (from roboflow) (7.1.2)\n",
            "Requirement already satisfied: opencv-python-headless>=4.5.1.48 in /usr/local/lib/python3.8/dist-packages (from roboflow) (4.6.0.66)\n",
            "Requirement already satisfied: idna==2.10 in /usr/local/lib/python3.8/dist-packages (from roboflow) (2.10)\n",
            "Requirement already satisfied: cycler==0.10.0 in /usr/local/lib/python3.8/dist-packages (from roboflow) (0.10.0)\n",
            "Requirement already satisfied: requests in /usr/local/lib/python3.8/dist-packages (from roboflow) (2.28.1)\n",
            "Requirement already satisfied: tqdm>=4.41.0 in /usr/local/lib/python3.8/dist-packages (from roboflow) (4.64.1)\n",
            "Requirement already satisfied: python-dotenv in /usr/local/lib/python3.8/dist-packages (from roboflow) (0.21.0)\n",
            "Requirement already satisfied: glob2 in /usr/local/lib/python3.8/dist-packages (from roboflow) (0.7)\n",
            "Requirement already satisfied: python-dateutil in /usr/local/lib/python3.8/dist-packages (from roboflow) (2.8.2)\n",
            "Requirement already satisfied: numpy>=1.18.5 in /usr/local/lib/python3.8/dist-packages (from roboflow) (1.21.6)\n",
            "Requirement already satisfied: wget in /usr/local/lib/python3.8/dist-packages (from roboflow) (3.2)\n",
            "Requirement already satisfied: six in /usr/local/lib/python3.8/dist-packages (from roboflow) (1.15.0)\n",
            "Requirement already satisfied: charset-normalizer<3,>=2 in /usr/local/lib/python3.8/dist-packages (from requests->roboflow) (2.1.1)\n",
            "loading Roboflow workspace...\n",
            "loading Roboflow project...\n",
            "Downloading Dataset Version Zip in /content/datasets/HandSigns-1 to yolov5pytorch: 100% [7434842 / 7434842] bytes\n"
          ]
        },
        {
          "output_type": "stream",
          "name": "stderr",
          "text": [
            "Extracting Dataset Version Zip to /content/datasets/HandSigns-1 in yolov5pytorch:: 100%|██████████| 610/610 [00:00<00:00, 990.90it/s] \n"
          ]
        }
      ]
    },
    {
      "cell_type": "code",
      "source": [
        "!python train.py --img 416 --batch 16 --epochs 150 --data {dataset.location}/data.yaml --weights yolov5s.pt --cache"
      ],
      "metadata": {
        "id": "_PJb4jYl0jAj"
      },
      "execution_count": null,
      "outputs": []
    },
    {
      "cell_type": "code",
      "source": [
        "#display inference on ALL test images\n",
        "\n",
        "import glob\n",
        "from IPython.display import Image, display\n",
        "\n",
        "for imageName in glob.glob('/content/yolov5/runs/detect/exp/*.jpg'): #assuming JPG\n",
        "    display(Image(filename=imageName))\n",
        "    print(\"\\n\")"
      ],
      "metadata": {
        "id": "jsKmaVWh0lEx"
      },
      "execution_count": null,
      "outputs": []
    },
    {
      "cell_type": "code",
      "source": [
        "#export your model's weights for future use\n",
        "from google.colab import files\n",
        "files.download('./runs/train/exp/weights/best.pt')"
      ],
      "metadata": {
        "id": "VkupytUk1FjL"
      },
      "execution_count": null,
      "outputs": []
    }
  ],
  "metadata": {
    "colab": {
      "provenance": []
    },
    "kernelspec": {
      "display_name": "pytorch_hasan",
      "language": "python",
      "name": "pytorch_hasan"
    },
    "language_info": {
      "codemirror_mode": {
        "name": "ipython",
        "version": 3
      },
      "file_extension": ".py",
      "mimetype": "text/x-python",
      "name": "python",
      "nbconvert_exporter": "python",
      "pygments_lexer": "ipython3",
      "version": "3.7.12"
    }
  },
  "nbformat": 4,
  "nbformat_minor": 0
}